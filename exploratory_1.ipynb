{
  "nbformat": 4,
  "nbformat_minor": 0,
  "metadata": {
    "colab": {
      "name": "exploratory_1.ipynb",
      "provenance": [],
      "collapsed_sections": [],
      "authorship_tag": "ABX9TyMKHaaxXrD6VIKcvS+VzMTj",
      "include_colab_link": true
    },
    "kernelspec": {
      "name": "python3",
      "display_name": "Python 3"
    },
    "accelerator": "GPU"
  },
  "cells": [
    {
      "cell_type": "markdown",
      "metadata": {
        "id": "view-in-github",
        "colab_type": "text"
      },
      "source": [
        "<a href=\"https://colab.research.google.com/github/sam-thurman/asl_alphabet_image_classification/blob/master/exploratory_1.ipynb\" target=\"_parent\"><img src=\"https://colab.research.google.com/assets/colab-badge.svg\" alt=\"Open In Colab\"/></a>"
      ]
    },
    {
      "cell_type": "code",
      "metadata": {
        "id": "5Fub22sPCpdU",
        "colab_type": "code",
        "colab": {}
      },
      "source": [
        "import pandas as pd\n",
        "import numpy as np\n",
        "import scipy as math\n",
        "import matplotlib.pyplot as plt\n",
        "import seaborn as sns\n",
        "import pickle\n",
        "# from PIL import Image\n",
        "\n",
        "from sklearn.model_selection import train_test_split\n",
        "import keras\n",
        "\n",
        "from keras.preprocessing.image import ImageDataGenerator, array_to_img, img_to_array, load_img\n",
        "\n",
        "from keras.models import Model, Sequential\n",
        "from keras import layers\n",
        "from keras.layers import Dense, Input, Dropout, GlobalAveragePooling2D, Flatten, Conv2D, BatchNormalization, Activation, MaxPooling2D\n",
        "from keras import optimizers\n",
        "from keras.optimizers import Adam\n",
        "\n",
        "import sys\n",
        "import os\n"
      ],
      "execution_count": 0,
      "outputs": []
    },
    {
      "cell_type": "code",
      "metadata": {
        "id": "T8qyP79aRSHe",
        "colab_type": "code",
        "outputId": "516a7c30-2d37-4bbb-b86a-1d950893695f",
        "colab": {
          "base_uri": "https://localhost:8080/",
          "height": 34
        }
      },
      "source": [
        "# mount google drive\n",
        "from google.colab import drive\n",
        "# drive.mount('/content/drive/My Drive/data')\n",
        "drive.mount('/content/drive')"
      ],
      "execution_count": 0,
      "outputs": [
        {
          "output_type": "stream",
          "text": [
            "Drive already mounted at /content/drive; to attempt to forcibly remount, call drive.mount(\"/content/drive\", force_remount=True).\n"
          ],
          "name": "stdout"
        }
      ]
    },
    {
      "cell_type": "code",
      "metadata": {
        "id": "xSRJOJ1pRXn5",
        "colab_type": "code",
        "outputId": "c4179dc5-468d-4f04-dff4-03a2bdd678e3",
        "colab": {
          "base_uri": "https://localhost:8080/",
          "height": 51
        }
      },
      "source": [
        "# change directory into drive\n",
        "%cd drive/My\\ Drive/\n"
      ],
      "execution_count": 0,
      "outputs": [
        {
          "output_type": "stream",
          "text": [
            "[Errno 2] No such file or directory: 'drive/My Drive/'\n",
            "/content/drive/My Drive\n"
          ],
          "name": "stdout"
        }
      ]
    },
    {
      "cell_type": "code",
      "metadata": {
        "id": "vLoMt1KnRisy",
        "colab_type": "code",
        "outputId": "8312a417-be39-4309-f9e3-10b64a0b7d16",
        "colab": {
          "base_uri": "https://localhost:8080/",
          "height": 884
        }
      },
      "source": [
        "%ls"
      ],
      "execution_count": 0,
      "outputs": [
        {
          "output_type": "stream",
          "text": [
            " Accounts.gdoc\n",
            " \u001b[0m\u001b[01;34masl_alphabet_image_classification\u001b[0m/\n",
            "'bb logo v2 (05:29:19).pdf'\n",
            "'Behavioral quizz write-up 301.gdoc'\n",
            "'Capstone MVP presentation.gslides'\n",
            "'ceative resume.gdoc'\n",
            "'CF 301 reading journal.gdoc'\n",
            " \u001b[01;34mCodefellows\u001b[0m/\n",
            "'(codefellows)Answers to Common Behavioral Questions.gdoc'\n",
            " communication.mp3\n",
            " \u001b[01;34mdata\u001b[0m/\n",
            " Fin:BobbyBrooka_AsIShould.mp3\n",
            " Fin_Mischief.mp3\n",
            "'Fin_Wreckage 3.mp3'\n",
            "'Flatiron Capstone Proposal.gdoc'\n",
            "\u001b[01;34m'flatiron notes'\u001b[0m/\n",
            "'Getting started.pdf'\n",
            "\"hot n' cold beat RW.mp3\"\n",
            "'ice man (concept not finished).mp3'\n",
            "'Image 11-18-19 at 11.12 AM.JPG'\n",
            "'in my ceiling.mp3'\n",
            "'in my ceiling (w VERY ROUGH voc concept).mp3'\n",
            "'Kaia_RedWine_BetweenUs 2.mp3'\n",
            " Kaia_RedWine_BetweenUs.mp3\n",
            "'mischief (1).mp3'\n",
            " mischief.mp3\n",
            "'Norwood_TollFree[Master].mp3'\n",
            "'nothing nowhere.mp3'\n",
            "\u001b[01;34m'pain on your thigh'\u001b[0m/\n",
            "'pain on your thigh 1-Drum Rack.mp3'\n",
            "'pain on your thigh 2-Addictive Keys.mp3'\n",
            "'pain on your thigh 3-Addictive Keys.mp3'\n",
            "'pain on your thigh 4-Serum.mp3'\n",
            "'pain on your thigh 5-Serum.mp3'\n",
            "'pain on your thigh 6-Serum.mp3'\n",
            "'pain on your thigh 7-Serum.mp3'\n",
            "'pain on your thigh 8-808.mp3'\n",
            "'pain on your thigh.mp3'\n",
            "'pain on your thigh Vocals-ad libs:chops.mp3'\n",
            "'pain on your thigh Vocals-Main.mp3'\n",
            "'Property Lease Agreement - 24006 50th Pl W - PG Signed-2.pdf'\n",
            " rain.mp3\n",
            "'redwine tape 1'\n",
            " Resume.gdoc\n",
            "'Sam Thurman - resume.gdoc'\n",
            "'STARE prod. sneak.mp3'\n",
            "'sunday kawfe.mp3'\n",
            " terminal.ipynb\n",
            "'Untitled spreadsheet.gsheet'\n",
            "'video spaces.gdoc'\n",
            "'work school pwds.gdoc'\n"
          ],
          "name": "stdout"
        }
      ]
    },
    {
      "cell_type": "code",
      "metadata": {
        "id": "_muEJGXNe1zQ",
        "colab_type": "code",
        "outputId": "63fea2bc-25f2-4e53-c7ee-5f1195dec8fb",
        "colab": {
          "base_uri": "https://localhost:8080/",
          "height": 34
        }
      },
      "source": [
        ""
      ],
      "execution_count": 0,
      "outputs": [
        {
          "output_type": "stream",
          "text": [
            "^C\n"
          ],
          "name": "stdout"
        }
      ]
    },
    {
      "cell_type": "code",
      "metadata": {
        "id": "O1iRuGUvZOnb",
        "colab_type": "code",
        "colab": {}
      },
      "source": [
        "# path for files inside content/drive/My Drive notebooks folder\n",
        "# train_path = os.path.join('data/asl_alphabet_train')\n",
        "# validation_path = os.path.join('data/asl_alphabet_validation')\n",
        "train_path = 'data/asl_alphabet_train'\n",
        "validation_path = 'data/asl_alphabet_validation'"
      ],
      "execution_count": 0,
      "outputs": []
    },
    {
      "cell_type": "code",
      "metadata": {
        "id": "UkTSj637Rivg",
        "colab_type": "code",
        "colab": {}
      },
      "source": [
        "# image generator instance\n",
        "datagen = keras.preprocessing.image.ImageDataGenerator(\n",
        "                rescale=1./255,\n",
        "                validation_split=0.3) \n",
        "valgen = keras.preprocessing.image.ImageDataGenerator(\n",
        "                rescale=1./255) "
      ],
      "execution_count": 0,
      "outputs": []
    },
    {
      "cell_type": "code",
      "metadata": {
        "id": "Aj7QnG74Rixm",
        "colab_type": "code",
        "outputId": "fe114ee2-74dd-4f0b-d409-5e503b116914",
        "colab": {
          "base_uri": "https://localhost:8080/",
          "height": 136
        }
      },
      "source": [
        "\n",
        "image_size = 128\n",
        "batch_size = 32\n",
        "\n",
        "print('done')\n",
        "train_generator = datagen.flow_from_directory(\n",
        "                train_path,  #directory for training images\n",
        "                target_size=(image_size, image_size),\n",
        "                batch_size=batch_size,\n",
        "                class_mode='categorical',\n",
        "                color_mode='grayscale',\n",
        "                shuffle=True,\n",
        "                subset='training')\n",
        "print('done')\n",
        "test_generator = datagen.flow_from_directory(\n",
        "                train_path,  # same directory for testing images\n",
        "                target_size=(image_size, image_size),\n",
        "                batch_size=batch_size,\n",
        "                class_mode='categorical',\n",
        "                color_mode='grayscale',\n",
        "                shuffle=True,\n",
        "                subset='validation')\n",
        "print('done')\n",
        "val_generator = valgen.flow_from_directory(\n",
        "                validation_path,  # directory for validation images\n",
        "                target_size=(image_size, image_size),\n",
        "                batch_size=batch_size,\n",
        "                class_mode='categorical',\n",
        "                color_mode='grayscale',\n",
        "                shuffle=False)\n",
        "print('done')"
      ],
      "execution_count": 0,
      "outputs": [
        {
          "output_type": "stream",
          "text": [
            "done\n",
            "Found 60992 images belonging to 29 classes.\n",
            "done\n",
            "Found 26134 images belonging to 29 classes.\n",
            "done\n",
            "Found 29 images belonging to 28 classes.\n",
            "done\n"
          ],
          "name": "stdout"
        }
      ]
    },
    {
      "cell_type": "code",
      "metadata": {
        "id": "nTtjbZ6SRSMp",
        "colab_type": "code",
        "colab": {}
      },
      "source": [
        "nb_classes = 29\n",
        "\n",
        "# initialize CNN\n",
        "model2 = Sequential()\n",
        "\n",
        "# 1st conv layer\n",
        "model2.add(Conv2D(32,(3,3), padding='same', input_shape=(image_size, image_size,1)))\n",
        "model2.add(BatchNormalization())\n",
        "model2.add(Activation('relu'))\n",
        "model2.add(MaxPooling2D(pool_size=(2, 2)))\n",
        "model2.add(Dropout(0.25))\n",
        "\n",
        "# 2nd conv layer\n",
        "model2.add(Conv2D(64,(5,5), padding='same'))\n",
        "model2.add(BatchNormalization())\n",
        "model2.add(Activation('relu'))\n",
        "model2.add(MaxPooling2D(pool_size=(2, 2)))\n",
        "model2.add(Dropout(0.25))\n",
        "\n",
        "# 3rd conv layer\n",
        "model2.add(Conv2D(128,(3,3), padding='same'))\n",
        "model2.add(BatchNormalization())\n",
        "model2.add(Activation('relu'))\n",
        "model2.add(MaxPooling2D(pool_size=(2, 2)))\n",
        "model2.add(Dropout(0.25))\n",
        "\n",
        "# 4th conv layer\n",
        "# model2.add(Conv2D(512,(3,3), padding='same'))\n",
        "# model2.add(BatchNormalization())\n",
        "# model2.add(Activation('relu'))\n",
        "# model2.add(MaxPooling2D(pool_size=(2, 2)))\n",
        "# model2.add(Dropout(0.25))\n",
        "\n",
        "# flattening\n",
        "model2.add(Flatten())\n",
        "\n",
        "# 1st fully connected layer\n",
        "model2.add(Dense(64))\n",
        "model2.add(BatchNormalization())\n",
        "model2.add(Activation('relu'))\n",
        "model2.add(Dropout(0.25))\n",
        "\n",
        "# 2nd fully connected layer\n",
        "# model2.add(Dense(128))\n",
        "# model2.add(BatchNormalization())\n",
        "# model2.add(Activation('relu'))\n",
        "# model2.add(Dropout(0.25))\n",
        "\n",
        "model2.add(Dense(nb_classes, activation='softmax'))\n",
        "\n"
      ],
      "execution_count": 0,
      "outputs": []
    },
    {
      "cell_type": "code",
      "metadata": {
        "id": "hL0wFN39RSPy",
        "colab_type": "code",
        "colab": {}
      },
      "source": [
        "optimizer = Adam(lr=0.01)\n",
        "model2.compile(optimizer=optimizer, loss='categorical_crossentropy', metrics=['accuracy'])"
      ],
      "execution_count": 0,
      "outputs": []
    },
    {
      "cell_type": "code",
      "metadata": {
        "id": "vIu7zNh6RSSH",
        "colab_type": "code",
        "outputId": "8ed70a90-bcdc-4787-81a4-9b4ab23832fe",
        "colab": {
          "base_uri": "https://localhost:8080/",
          "height": 309
        }
      },
      "source": [
        "hisotry2 = model2.fit_generator(test_generator, epochs=5)"
      ],
      "execution_count": 0,
      "outputs": [
        {
          "output_type": "stream",
          "text": [
            "Epoch 1/5\n",
            "543/817 [==================>...........] - ETA: 1:22:41 - loss: 1.0692 - accuracy: 0.6504"
          ],
          "name": "stdout"
        },
        {
          "output_type": "stream",
          "text": [
            "/usr/local/lib/python3.6/dist-packages/keras/utils/data_utils.py:616: UserWarning: The input 335 could not be retrieved. It could be because a worker has died.\n",
            "  UserWarning)\n"
          ],
          "name": "stderr"
        },
        {
          "output_type": "stream",
          "text": [
            "556/817 [===================>..........] - ETA: 1:19:03 - loss: 1.0543 - accuracy: 0.6547"
          ],
          "name": "stdout"
        },
        {
          "output_type": "stream",
          "text": [
            "/usr/local/lib/python3.6/dist-packages/keras/utils/data_utils.py:616: UserWarning: The input 231 could not be retrieved. It could be because a worker has died.\n",
            "  UserWarning)\n"
          ],
          "name": "stderr"
        },
        {
          "output_type": "stream",
          "text": [
            "737/817 [==========================>...] - ETA: 24:19 - loss: 0.8896 - accuracy: 0.7067"
          ],
          "name": "stdout"
        },
        {
          "output_type": "stream",
          "text": [
            "/usr/local/lib/python3.6/dist-packages/keras/utils/data_utils.py:616: UserWarning: The input 610 could not be retrieved. It could be because a worker has died.\n",
            "  UserWarning)\n"
          ],
          "name": "stderr"
        },
        {
          "output_type": "stream",
          "text": [
            "817/817 [==============================] - 14984s 18s/step - loss: 0.8374 - accuracy: 0.7229\n",
            "Epoch 2/5\n",
            "817/817 [==============================] - 88s 107ms/step - loss: 0.2311 - accuracy: 0.9210\n",
            "Epoch 3/5\n",
            "817/817 [==============================] - 88s 107ms/step - loss: 0.1650 - accuracy: 0.9443\n",
            "Epoch 4/5\n",
            "817/817 [==============================] - 87s 106ms/step - loss: 0.1166 - accuracy: 0.9598\n",
            "Epoch 5/5\n",
            "817/817 [==============================] - 85s 104ms/step - loss: 0.1050 - accuracy: 0.9628\n"
          ],
          "name": "stdout"
        }
      ]
    },
    {
      "cell_type": "markdown",
      "metadata": {
        "id": "SrJp3_IOx8Wl",
        "colab_type": "text"
      },
      "source": [
        "original - 236/545 [===========>..................] - ETA: 17:45 - loss: 1.6521 - accuracy: 0.4784"
      ]
    },
    {
      "cell_type": "code",
      "metadata": {
        "id": "zCy3xIimRSb5",
        "colab_type": "code",
        "colab": {}
      },
      "source": [
        "model2.save('model2.h5')\n",
        "del model2"
      ],
      "execution_count": 0,
      "outputs": []
    },
    {
      "cell_type": "code",
      "metadata": {
        "id": "JTnyV7hmZVD3",
        "colab_type": "code",
        "outputId": "4bb7c8a6-2f1f-4201-e78a-65bbef67a1ec",
        "colab": {
          "base_uri": "https://localhost:8080/",
          "height": 901
        }
      },
      "source": [
        "ls"
      ],
      "execution_count": 0,
      "outputs": [
        {
          "output_type": "stream",
          "text": [
            " Accounts.gdoc\n",
            " \u001b[0m\u001b[01;34masl_alphabet_image_classification\u001b[0m/\n",
            "'bb logo v2 (05:29:19).pdf'\n",
            "'Behavioral quizz write-up 301.gdoc'\n",
            "'Capstone MVP presentation.gslides'\n",
            "'ceative resume.gdoc'\n",
            "'CF 301 reading journal.gdoc'\n",
            " \u001b[01;34mCodefellows\u001b[0m/\n",
            "'(codefellows)Answers to Common Behavioral Questions.gdoc'\n",
            " communication.mp3\n",
            " \u001b[01;34mdata\u001b[0m/\n",
            " Fin:BobbyBrooka_AsIShould.mp3\n",
            " Fin_Mischief.mp3\n",
            "'Fin_Wreckage 3.mp3'\n",
            "'Flatiron Capstone Proposal.gdoc'\n",
            "\u001b[01;34m'flatiron notes'\u001b[0m/\n",
            "'Getting started.pdf'\n",
            "\"hot n' cold beat RW.mp3\"\n",
            "'ice man (concept not finished).mp3'\n",
            "'Image 11-18-19 at 11.12 AM.JPG'\n",
            "'in my ceiling.mp3'\n",
            "'in my ceiling (w VERY ROUGH voc concept).mp3'\n",
            "'Kaia_RedWine_BetweenUs 2.mp3'\n",
            " Kaia_RedWine_BetweenUs.mp3\n",
            "'mischief (1).mp3'\n",
            " mischief.mp3\n",
            " model2.h5\n",
            "'Norwood_TollFree[Master].mp3'\n",
            "'nothing nowhere.mp3'\n",
            "\u001b[01;34m'pain on your thigh'\u001b[0m/\n",
            "'pain on your thigh 1-Drum Rack.mp3'\n",
            "'pain on your thigh 2-Addictive Keys.mp3'\n",
            "'pain on your thigh 3-Addictive Keys.mp3'\n",
            "'pain on your thigh 4-Serum.mp3'\n",
            "'pain on your thigh 5-Serum.mp3'\n",
            "'pain on your thigh 6-Serum.mp3'\n",
            "'pain on your thigh 7-Serum.mp3'\n",
            "'pain on your thigh 8-808.mp3'\n",
            "'pain on your thigh.mp3'\n",
            "'pain on your thigh Vocals-ad libs:chops.mp3'\n",
            "'pain on your thigh Vocals-Main.mp3'\n",
            "'Property Lease Agreement - 24006 50th Pl W - PG Signed-2.pdf'\n",
            " rain.mp3\n",
            "'redwine tape 1'\n",
            " Resume.gdoc\n",
            "'Sam Thurman - resume.gdoc'\n",
            "'STARE prod. sneak.mp3'\n",
            "'sunday kawfe.mp3'\n",
            " terminal.ipynb\n",
            "'Untitled spreadsheet.gsheet'\n",
            "'video spaces.gdoc'\n",
            "'work school pwds.gdoc'\n"
          ],
          "name": "stdout"
        }
      ]
    },
    {
      "cell_type": "code",
      "metadata": {
        "id": "O3CRtQ00ZVGI",
        "colab_type": "code",
        "colab": {}
      },
      "source": [
        "from keras.models import load_model\n",
        "model2 = load_model('model2.h5')"
      ],
      "execution_count": 0,
      "outputs": []
    },
    {
      "cell_type": "code",
      "metadata": {
        "id": "W-isdCVxZVI1",
        "colab_type": "code",
        "colab": {}
      },
      "source": [
        ""
      ],
      "execution_count": 0,
      "outputs": []
    }
  ]
}