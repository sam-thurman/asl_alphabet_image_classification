{
  "nbformat": 4,
  "nbformat_minor": 0,
  "metadata": {
    "colab": {
      "name": "exploratory_2.ipynb",
      "provenance": [],
      "collapsed_sections": [],
      "machine_shape": "hm",
      "authorship_tag": "ABX9TyMpqY9w6h9DJSvSWG1LfyFB",
      "include_colab_link": true
    },
    "kernelspec": {
      "name": "python3",
      "display_name": "Python 3"
    },
    "accelerator": "TPU"
  },
  "cells": [
    {
      "cell_type": "markdown",
      "metadata": {
        "id": "view-in-github",
        "colab_type": "text"
      },
      "source": [
        "<a href=\"https://colab.research.google.com/github/sam-thurman/asl_alphabet_image_classification/blob/master/exploratory_2.ipynb\" target=\"_parent\"><img src=\"https://colab.research.google.com/assets/colab-badge.svg\" alt=\"Open In Colab\"/></a>"
      ]
    },
    {
      "cell_type": "code",
      "metadata": {
        "id": "5Fub22sPCpdU",
        "colab_type": "code",
        "colab": {}
      },
      "source": [
        "import pandas as pd\n",
        "import numpy as np\n",
        "import scipy as math\n",
        "import matplotlib.pyplot as plt\n",
        "import seaborn as sns\n",
        "import pickle\n",
        "# from PIL import Image\n",
        "\n",
        "from sklearn.model_selection import train_test_split\n",
        "import keras\n",
        "\n",
        "from keras.preprocessing.image import ImageDataGenerator, array_to_img, img_to_array, load_img\n",
        "\n",
        "from keras.models import Model, Sequential\n",
        "from keras import layers\n",
        "from keras.layers import Dense, Input, Dropout, GlobalAveragePooling2D, Flatten, Conv2D, BatchNormalization, Activation, MaxPooling2D\n",
        "from keras import optimizers\n",
        "from keras.optimizers import Adam\n",
        "\n",
        "import sys\n",
        "import os\n"
      ],
      "execution_count": 0,
      "outputs": []
    },
    {
      "cell_type": "code",
      "metadata": {
        "id": "T8qyP79aRSHe",
        "colab_type": "code",
        "outputId": "242f12a1-6b00-4492-dd07-c6e2e5069a06",
        "colab": {
          "base_uri": "https://localhost:8080/",
          "height": 54
        }
      },
      "source": [
        "# mount google drive\n",
        "from google.colab import drive\n",
        "# drive.mount('/content/drive/My Drive/data')\n",
        "drive.mount('/content/drive')#, force_remount=True)"
      ],
      "execution_count": 0,
      "outputs": [
        {
          "output_type": "stream",
          "text": [
            "Drive already mounted at /content/drive; to attempt to forcibly remount, call drive.mount(\"/content/drive\", force_remount=True).\n"
          ],
          "name": "stdout"
        }
      ]
    },
    {
      "cell_type": "code",
      "metadata": {
        "id": "xSRJOJ1pRXn5",
        "colab_type": "code",
        "outputId": "b59a59a0-7d80-476f-cf91-89d6112b3450",
        "colab": {
          "base_uri": "https://localhost:8080/",
          "height": 34
        }
      },
      "source": [
        "# change directory into drive\n",
        "%cd drive/My\\ Drive/\n"
      ],
      "execution_count": 0,
      "outputs": [
        {
          "output_type": "stream",
          "text": [
            "/content/drive/My Drive\n"
          ],
          "name": "stdout"
        }
      ]
    },
    {
      "cell_type": "code",
      "metadata": {
        "id": "vLoMt1KnRisy",
        "colab_type": "code",
        "outputId": "103f112b-f628-41ac-a3cf-9ba4242db8e9",
        "colab": {
          "base_uri": "https://localhost:8080/",
          "height": 952
        }
      },
      "source": [
        "%ls"
      ],
      "execution_count": 0,
      "outputs": [
        {
          "output_type": "stream",
          "text": [
            " Accounts.gdoc\n",
            " \u001b[0m\u001b[01;34masl_alphabet_image_classification\u001b[0m/\n",
            "'bb logo v2 (05:29:19).pdf'\n",
            "'Behavioral quizz write-up 301.gdoc'\n",
            "'Capstone MVP presentation.gslides'\n",
            "'ceative resume.gdoc'\n",
            "'CF 301 reading journal.gdoc'\n",
            " \u001b[01;34mCodefellows\u001b[0m/\n",
            "'(codefellows)Answers to Common Behavioral Questions.gdoc'\n",
            " communication.mp3\n",
            " copy_base__inceptionv3.h5\n",
            " copy_base_model.h5\n",
            " copy_model1.h5\n",
            " copy_model2.h5\n",
            " \u001b[01;34mdata\u001b[0m/\n",
            " Fin:BobbyBrooka_AsIShould.mp3\n",
            " Fin_Mischief.mp3\n",
            "'Fin_Wreckage 3.mp3'\n",
            "'Flatiron Capstone Proposal.gdoc'\n",
            "\u001b[01;34m'flatiron notes'\u001b[0m/\n",
            "'Getting started.pdf'\n",
            "\"hot n' cold beat RW.mp3\"\n",
            "'ice man (concept not finished).mp3'\n",
            "'Image 11-18-19 at 11.12 AM.JPG'\n",
            "'in my ceiling.mp3'\n",
            "'in my ceiling (w VERY ROUGH voc concept).mp3'\n",
            "'Kaia_RedWine_BetweenUs 2.mp3'\n",
            " Kaia_RedWine_BetweenUs.mp3\n",
            "'mischief (1).mp3'\n",
            " mischief.mp3\n",
            "'Norwood_TollFree[Master].mp3'\n",
            "'nothing nowhere.mp3'\n",
            "\u001b[01;34m'pain on your thigh'\u001b[0m/\n",
            "'pain on your thigh 1-Drum Rack.mp3'\n",
            "'pain on your thigh 2-Addictive Keys.mp3'\n",
            "'pain on your thigh 3-Addictive Keys.mp3'\n",
            "'pain on your thigh 4-Serum.mp3'\n",
            "'pain on your thigh 5-Serum.mp3'\n",
            "'pain on your thigh 6-Serum.mp3'\n",
            "'pain on your thigh 7-Serum.mp3'\n",
            "'pain on your thigh 8-808.mp3'\n",
            "'pain on your thigh.mp3'\n",
            "'pain on your thigh Vocals-ad libs:chops.mp3'\n",
            "'pain on your thigh Vocals-Main.mp3'\n",
            "'Property Lease Agreement - 24006 50th Pl W - PG Signed-2.pdf'\n",
            " rain.mp3\n",
            "'redwine tape 1'\n",
            " Resume.gdoc\n",
            "'Sam Thurman - resume.gdoc'\n",
            "'STARE prod. sneak.mp3'\n",
            "'sunday kawfe.mp3'\n",
            " terminal.ipynb\n",
            "'Untitled spreadsheet.gsheet'\n",
            "'video spaces.gdoc'\n",
            "'work school pwds.gdoc'\n"
          ],
          "name": "stdout"
        }
      ]
    },
    {
      "cell_type": "code",
      "metadata": {
        "id": "O1iRuGUvZOnb",
        "colab_type": "code",
        "colab": {}
      },
      "source": [
        "# path for files inside content/drive/My Drive notebooks folder\n",
        "# train_path = os.path.join('data/asl_alphabet_train')\n",
        "# validation_path = os.path.join('data/asl_alphabet_validation')\n",
        "train_path = 'data/asl_alphabet_train'\n",
        "validation_path = 'data/asl_alphabet_validation'"
      ],
      "execution_count": 0,
      "outputs": []
    },
    {
      "cell_type": "code",
      "metadata": {
        "id": "UkTSj637Rivg",
        "colab_type": "code",
        "colab": {}
      },
      "source": [
        "# image generator instance\n",
        "random_seed = 42\n",
        "datagen = keras.preprocessing.image.ImageDataGenerator(\n",
        "                rescale=1./255,\n",
        "                validation_split=0.3) \n"
      ],
      "execution_count": 0,
      "outputs": []
    },
    {
      "cell_type": "code",
      "metadata": {
        "id": "Aj7QnG74Rixm",
        "colab_type": "code",
        "outputId": "e7dbae43-fff0-409f-9531-8dc546e67dcf",
        "colab": {
          "base_uri": "https://localhost:8080/",
          "height": 102
        }
      },
      "source": [
        "image_size = 150\n",
        "batch_size = 32\n",
        "\n",
        "print('done')\n",
        "train_generator = datagen.flow_from_directory(\n",
        "                train_path,  #directory for training images\n",
        "                target_size=(image_size, image_size),\n",
        "                batch_size=batch_size,\n",
        "                class_mode='categorical',\n",
        "                color_mode='grayscale',\n",
        "                shuffle=True,\n",
        "                subset='training')\n",
        "print('done')\n",
        "test_generator = datagen.flow_from_directory(\n",
        "                train_path,  # same directory for testing images\n",
        "                target_size=(image_size, image_size),\n",
        "                batch_size=batch_size,\n",
        "                class_mode='categorical',\n",
        "                color_mode='grayscale',\n",
        "                shuffle=True,\n",
        "                subset='validation')\n",
        "print('done')\n",
        "\n"
      ],
      "execution_count": 0,
      "outputs": [
        {
          "output_type": "stream",
          "text": [
            "done\n",
            "Found 60991 images belonging to 29 classes.\n",
            "done\n",
            "Found 26134 images belonging to 29 classes.\n",
            "done\n"
          ],
          "name": "stdout"
        }
      ]
    },
    {
      "cell_type": "code",
      "metadata": {
        "id": "2NKf7GMHxsmQ",
        "colab_type": "code",
        "outputId": "faf03277-631a-43f3-c12c-72de5f43e8bc",
        "colab": {
          "base_uri": "https://localhost:8080/",
          "height": 510
        }
      },
      "source": [
        "test_generator.class_indices"
      ],
      "execution_count": 0,
      "outputs": [
        {
          "output_type": "execute_result",
          "data": {
            "text/plain": [
              "{'A': 0,\n",
              " 'B': 1,\n",
              " 'C': 2,\n",
              " 'D': 3,\n",
              " 'E': 4,\n",
              " 'F': 5,\n",
              " 'G': 6,\n",
              " 'H': 7,\n",
              " 'I': 8,\n",
              " 'J': 9,\n",
              " 'K': 10,\n",
              " 'L': 11,\n",
              " 'M': 12,\n",
              " 'N': 13,\n",
              " 'O': 14,\n",
              " 'P': 15,\n",
              " 'Q': 16,\n",
              " 'R': 17,\n",
              " 'S': 18,\n",
              " 'T': 19,\n",
              " 'U': 20,\n",
              " 'V': 21,\n",
              " 'W': 22,\n",
              " 'X': 23,\n",
              " 'Y': 24,\n",
              " 'Z': 25,\n",
              " 'del': 26,\n",
              " 'nothing': 27,\n",
              " 'space': 28}"
            ]
          },
          "metadata": {
            "tags": []
          },
          "execution_count": 25
        }
      ]
    },
    {
      "cell_type": "code",
      "metadata": {
        "id": "9tkYAgseCHZf",
        "colab_type": "code",
        "outputId": "aa31ec4c-157f-48dc-9311-99fb64bb82b9",
        "colab": {
          "base_uri": "https://localhost:8080/",
          "height": 34
        }
      },
      "source": [
        "image_size = 200\n",
        "batch_size = 32\n",
        "valgen = keras.preprocessing.image.ImageDataGenerator(rescale=1./255) \n",
        "val_generator = valgen.flow_from_directory(\n",
        "                validation_path,  # directory for validation images\n",
        "                target_size=(image_size, image_size),\n",
        "                batch_size=batch_size,\n",
        "                class_mode='categorical',\n",
        "                color_mode='grayscale',\n",
        "                shuffle=False)"
      ],
      "execution_count": 0,
      "outputs": [
        {
          "output_type": "stream",
          "text": [
            "Found 30 images belonging to 29 classes.\n"
          ],
          "name": "stdout"
        }
      ]
    },
    {
      "cell_type": "code",
      "metadata": {
        "id": "nTtjbZ6SRSMp",
        "colab_type": "code",
        "colab": {}
      },
      "source": [
        "nb_classes = 29\n",
        "\n",
        "# initialize CNN\n",
        "model = Sequential()\n",
        "\n",
        "# 1st conv layer\n",
        "model.add(Conv2D(32,(3,3), padding='same', input_shape=(200, 200,1)))\n",
        "model.add(BatchNormalization())\n",
        "model.add(Activation('relu'))\n",
        "model.add(MaxPooling2D(pool_size=(2, 2)))\n",
        "model.add(Dropout(0.25))\n",
        "\n",
        "# 2nd conv layer\n",
        "model.add(Conv2D(64,(5,5), padding='same'))\n",
        "model.add(BatchNormalization())\n",
        "model.add(Activation('relu'))\n",
        "model.add(MaxPooling2D(pool_size=(2, 2)))\n",
        "model.add(Dropout(0.25))\n",
        "\n",
        "# 3rd conv layer\n",
        "model.add(Conv2D(128,(3,3), padding='same'))\n",
        "model.add(BatchNormalization())\n",
        "model.add(Activation('relu'))\n",
        "model.add(MaxPooling2D(pool_size=(2, 2)))\n",
        "model.add(Dropout(0.25))\n",
        "\n",
        "# 4th conv layer\n",
        "# model.add(Conv2D(128,(3,3), padding='same'))\n",
        "# model.add(BatchNormalization())\n",
        "# model.add(Activation('relu'))\n",
        "# model.add(MaxPooling2D(pool_size=(2, 2)))\n",
        "# model.add(Dropout(0.25))\n",
        "\n",
        "# flattening\n",
        "model.add(Flatten())\n",
        "\n",
        "# 1st fully connected layer\n",
        "# model.add(Dense(64))\n",
        "# model.add(BatchNormalization())\n",
        "# model.add(Activation('relu'))\n",
        "# model.add(Dropout(0.25))\n",
        "\n",
        "# 2nd fully connected layer\n",
        "model.add(Dense(128))\n",
        "model.add(BatchNormalization())\n",
        "model.add(Activation('relu'))\n",
        "model.add(Dropout(0.25))\n",
        "\n",
        "model.add(Dense(nb_classes, activation='softmax'))\n",
        "\n"
      ],
      "execution_count": 0,
      "outputs": []
    },
    {
      "cell_type": "code",
      "metadata": {
        "id": "hL0wFN39RSPy",
        "colab_type": "code",
        "colab": {}
      },
      "source": [
        "optimizer = Adam(lr=0.01)\n",
        "model.compile(optimizer=optimizer, loss='categorical_crossentropy', metrics=['accuracy'])"
      ],
      "execution_count": 0,
      "outputs": []
    },
    {
      "cell_type": "code",
      "metadata": {
        "id": "vIu7zNh6RSSH",
        "colab_type": "code",
        "outputId": "546ac436-c6c0-4a49-c642-909bb8120482",
        "colab": {
          "base_uri": "https://localhost:8080/",
          "height": 187
        }
      },
      "source": [
        "hisotry = model.fit_generator(test_generator, epochs=5)"
      ],
      "execution_count": 0,
      "outputs": [
        {
          "output_type": "stream",
          "text": [
            "Epoch 1/5\n",
            "545/545 [==============================] - 6605s 12s/step - loss: 0.9801 - accuracy: 0.6808\n",
            "Epoch 2/5\n",
            "545/545 [==============================] - 119s 219ms/step - loss: 0.3006 - accuracy: 0.8991\n",
            "Epoch 3/5\n",
            "545/545 [==============================] - 119s 219ms/step - loss: 0.1747 - accuracy: 0.9401\n",
            "Epoch 4/5\n",
            "545/545 [==============================] - 119s 219ms/step - loss: 0.1259 - accuracy: 0.9569\n",
            "Epoch 5/5\n",
            "545/545 [==============================] - 120s 219ms/step - loss: 0.1063 - accuracy: 0.9651\n"
          ],
          "name": "stdout"
        }
      ]
    },
    {
      "cell_type": "code",
      "metadata": {
        "id": "M5Loy4Qw3qZQ",
        "colab_type": "code",
        "colab": {}
      },
      "source": [
        "model.save('base_model.h5')\n",
        "del model"
      ],
      "execution_count": 0,
      "outputs": []
    },
    {
      "cell_type": "code",
      "metadata": {
        "id": "0cTXLwj-518h",
        "colab_type": "code",
        "outputId": "b514a337-fbe3-44a7-f0e1-ca80410a8b2a",
        "colab": {
          "base_uri": "https://localhost:8080/",
          "height": 901
        }
      },
      "source": [
        "%ls"
      ],
      "execution_count": 0,
      "outputs": [
        {
          "output_type": "stream",
          "text": [
            " Accounts.gdoc\n",
            " \u001b[0m\u001b[01;34masl_alphabet_image_classification\u001b[0m/\n",
            " base_model.h5\n",
            "'bb logo v2 (05:29:19).pdf'\n",
            "'Behavioral quizz write-up 301.gdoc'\n",
            "'Capstone MVP presentation.gslides'\n",
            "'ceative resume.gdoc'\n",
            "'CF 301 reading journal.gdoc'\n",
            " \u001b[01;34mCodefellows\u001b[0m/\n",
            "'(codefellows)Answers to Common Behavioral Questions.gdoc'\n",
            " communication.mp3\n",
            " \u001b[01;34mdata\u001b[0m/\n",
            " Fin:BobbyBrooka_AsIShould.mp3\n",
            " Fin_Mischief.mp3\n",
            "'Fin_Wreckage 3.mp3'\n",
            "'Flatiron Capstone Proposal.gdoc'\n",
            "\u001b[01;34m'flatiron notes'\u001b[0m/\n",
            "'Getting started.pdf'\n",
            "\"hot n' cold beat RW.mp3\"\n",
            "'ice man (concept not finished).mp3'\n",
            "'Image 11-18-19 at 11.12 AM.JPG'\n",
            "'in my ceiling.mp3'\n",
            "'in my ceiling (w VERY ROUGH voc concept).mp3'\n",
            "'Kaia_RedWine_BetweenUs 2.mp3'\n",
            " Kaia_RedWine_BetweenUs.mp3\n",
            "'mischief (1).mp3'\n",
            " mischief.mp3\n",
            "'Norwood_TollFree[Master].mp3'\n",
            "'nothing nowhere.mp3'\n",
            "\u001b[01;34m'pain on your thigh'\u001b[0m/\n",
            "'pain on your thigh 1-Drum Rack.mp3'\n",
            "'pain on your thigh 2-Addictive Keys.mp3'\n",
            "'pain on your thigh 3-Addictive Keys.mp3'\n",
            "'pain on your thigh 4-Serum.mp3'\n",
            "'pain on your thigh 5-Serum.mp3'\n",
            "'pain on your thigh 6-Serum.mp3'\n",
            "'pain on your thigh 7-Serum.mp3'\n",
            "'pain on your thigh 8-808.mp3'\n",
            "'pain on your thigh.mp3'\n",
            "'pain on your thigh Vocals-ad libs:chops.mp3'\n",
            "'pain on your thigh Vocals-Main.mp3'\n",
            "'Property Lease Agreement - 24006 50th Pl W - PG Signed-2.pdf'\n",
            " rain.mp3\n",
            "'redwine tape 1'\n",
            " Resume.gdoc\n",
            "'Sam Thurman - resume.gdoc'\n",
            "'STARE prod. sneak.mp3'\n",
            "'sunday kawfe.mp3'\n",
            " terminal.ipynb\n",
            "'Untitled spreadsheet.gsheet'\n",
            "'video spaces.gdoc'\n",
            "'work school pwds.gdoc'\n"
          ],
          "name": "stdout"
        }
      ]
    },
    {
      "cell_type": "code",
      "metadata": {
        "id": "7zR36jYa5hs2",
        "colab_type": "code",
        "colab": {}
      },
      "source": [
        "from keras.models import load_model\n",
        "model = load_model('asl_alphabet_image_classification/models/base_model.h5')"
      ],
      "execution_count": 0,
      "outputs": []
    },
    {
      "cell_type": "code",
      "metadata": {
        "id": "fLcUNETp_Kdm",
        "colab_type": "code",
        "colab": {}
      },
      "source": [
        "y_pred = model.predict_generator(val_generator)"
      ],
      "execution_count": 0,
      "outputs": []
    },
    {
      "cell_type": "code",
      "metadata": {
        "id": "HhnX808k3Npp",
        "colab_type": "code",
        "outputId": "8a22334e-bf1b-46d3-9fac-d77f7255c6c2",
        "colab": {
          "base_uri": "https://localhost:8080/",
          "height": 51
        }
      },
      "source": [
        "y_pred.argmax(-1)"
      ],
      "execution_count": 0,
      "outputs": [
        {
          "output_type": "execute_result",
          "data": {
            "text/plain": [
              "array([11,  1,  2,  3,  3,  5,  9,  7,  8,  9, 10, 14, 12, 13, 14, 15, 15,\n",
              "       17, 12, 19, 20, 21, 21, 23, 24, 25, 26, 27, 27, 28])"
            ]
          },
          "metadata": {
            "tags": []
          },
          "execution_count": 13
        }
      ]
    },
    {
      "cell_type": "code",
      "metadata": {
        "id": "mxDO-1gcAqFX",
        "colab_type": "code",
        "colab": {}
      },
      "source": [
        "y_true = val_generator.labels"
      ],
      "execution_count": 0,
      "outputs": []
    },
    {
      "cell_type": "code",
      "metadata": {
        "id": "RdDdrdPt_Kxh",
        "colab_type": "code",
        "colab": {}
      },
      "source": [
        "pred_indices = []\n",
        "for pred in y_pred:\n",
        "  pred_indices.append(np.argmax(pred))"
      ],
      "execution_count": 0,
      "outputs": []
    },
    {
      "cell_type": "code",
      "metadata": {
        "id": "vPunxNphBGxL",
        "colab_type": "code",
        "outputId": "d25bd041-7c9b-42d2-a2ef-fb6befbcf238",
        "colab": {
          "base_uri": "https://localhost:8080/",
          "height": 51
        }
      },
      "source": [
        "print(list(y_pred.argmax(-1)))\n",
        "print(list(y_true))"
      ],
      "execution_count": 0,
      "outputs": [
        {
          "output_type": "stream",
          "text": [
            "[11, 1, 2, 3, 3, 5, 9, 7, 8, 9, 10, 14, 12, 13, 14, 15, 15, 17, 12, 19, 20, 21, 21, 23, 24, 25, 26, 27, 27, 28]\n",
            "[0, 1, 2, 3, 4, 5, 6, 7, 8, 9, 10, 11, 12, 13, 14, 15, 16, 17, 18, 19, 20, 21, 22, 23, 24, 25, 26, 27, 27, 28]\n"
          ],
          "name": "stdout"
        }
      ]
    },
    {
      "cell_type": "code",
      "metadata": {
        "id": "4U1hPbGe_K6N",
        "colab_type": "code",
        "outputId": "3c74d9da-a78f-477b-9c78-b67d77280f6b",
        "colab": {
          "base_uri": "https://localhost:8080/",
          "height": 54
        }
      },
      "source": [
        "print(val_generator.class_indices)"
      ],
      "execution_count": 0,
      "outputs": [
        {
          "output_type": "stream",
          "text": [
            "{'A': 0, 'B': 1, 'C': 2, 'D': 3, 'E': 4, 'F': 5, 'G': 6, 'H': 7, 'I': 8, 'J': 9, 'K': 10, 'L': 11, 'M': 12, 'N': 13, 'O': 14, 'P': 15, 'Q': 16, 'R': 17, 'S': 18, 'T': 19, 'U': 20, 'V': 21, 'W': 22, 'X': 23, 'Y': 24, 'Z': 25, 'nothing': 26, 'space': 27}\n"
          ],
          "name": "stdout"
        }
      ]
    },
    {
      "cell_type": "code",
      "metadata": {
        "id": "YGfP0ZjZRSUz",
        "colab_type": "code",
        "colab": {}
      },
      "source": [
        "nb_classes = 29\n",
        "\n",
        "# initialize CNN\n",
        "model1 = Sequential()\n",
        "\n",
        "# 1st conv layer\n",
        "model1.add(Conv2D(32,(3,3), padding='same', input_shape=(image_size, image_size,1)))\n",
        "model1.add(BatchNormalization())\n",
        "model1.add(Activation('relu'))\n",
        "model1.add(MaxPooling2D(pool_size=(2, 2)))\n",
        "model1.add(Dropout(0.25))\n",
        "\n",
        "# 2nd conv layer\n",
        "model1.add(Conv2D(64,(5,5), padding='same'))\n",
        "model1.add(BatchNormalization())\n",
        "model1.add(Activation('relu'))\n",
        "model1.add(MaxPooling2D(pool_size=(2, 2)))\n",
        "model1.add(Dropout(0.25))\n",
        "\n",
        "# 3rd conv layer\n",
        "model1.add(Conv2D(128,(3,3), padding='same'))\n",
        "model1.add(BatchNormalization())\n",
        "model1.add(Activation('relu'))\n",
        "model1.add(MaxPooling2D(pool_size=(2, 2)))\n",
        "model1.add(Dropout(0.25))\n",
        "\n",
        "# 4th conv layer\n",
        "model1.add(Conv2D(128,(3,3), padding='same'))\n",
        "model1.add(BatchNormalization())\n",
        "model1.add(Activation('relu'))\n",
        "model1.add(MaxPooling2D(pool_size=(2, 2)))\n",
        "model1.add(Dropout(0.25))\n",
        "\n",
        "# flattening\n",
        "model1.add(Flatten())\n",
        "\n",
        "# 1st fully connected layer\n",
        "model1.add(Dense(64))\n",
        "model1.add(BatchNormalization())\n",
        "model1.add(Activation('relu'))\n",
        "model1.add(Dropout(0.25))\n",
        "\n",
        "# 2nd fully connected layer\n",
        "model1.add(Dense(128))\n",
        "model1.add(BatchNormalization())\n",
        "model1.add(Activation('relu'))\n",
        "model1.add(Dropout(0.25))\n",
        "\n",
        "model1.add(Dense(nb_classes, activation='softmax'))\n",
        "\n"
      ],
      "execution_count": 0,
      "outputs": []
    },
    {
      "cell_type": "code",
      "metadata": {
        "id": "xD4y0v7PRSZm",
        "colab_type": "code",
        "colab": {}
      },
      "source": [
        "optimizer = Adam(lr=0.01)\n",
        "model1.compile(optimizer=optimizer, loss='categorical_crossentropy', metrics=['accuracy'])"
      ],
      "execution_count": 0,
      "outputs": []
    },
    {
      "cell_type": "code",
      "metadata": {
        "id": "zCy3xIimRSb5",
        "colab_type": "code",
        "outputId": "4e19661f-d2b9-402a-b218-3878cbc4f153",
        "colab": {
          "base_uri": "https://localhost:8080/",
          "height": 275
        }
      },
      "source": [
        "hisotry1 = model1.fit_generator(train_generator, epochs=5)"
      ],
      "execution_count": 0,
      "outputs": [
        {
          "output_type": "stream",
          "text": [
            "Epoch 1/5\n",
            " 417/1906 [=====>........................] - ETA: 4:30:08 - loss: 2.4688 - accuracy: 0.2516"
          ],
          "name": "stdout"
        },
        {
          "output_type": "stream",
          "text": [
            "/usr/local/lib/python3.6/dist-packages/keras/utils/data_utils.py:616: UserWarning: The input 115 could not be retrieved. It could be because a worker has died.\n",
            "  UserWarning)\n"
          ],
          "name": "stderr"
        },
        {
          "output_type": "stream",
          "text": [
            "1287/1906 [===================>..........] - ETA: 1:53:13 - loss: 1.6598 - accuracy: 0.4669"
          ],
          "name": "stdout"
        },
        {
          "output_type": "stream",
          "text": [
            "/usr/local/lib/python3.6/dist-packages/keras/utils/data_utils.py:616: UserWarning: The input 747 could not be retrieved. It could be because a worker has died.\n",
            "  UserWarning)\n"
          ],
          "name": "stderr"
        },
        {
          "output_type": "stream",
          "text": [
            "1906/1906 [==============================] - 20529s 11s/step - loss: 1.3884 - accuracy: 0.5495\n",
            "Epoch 2/5\n",
            "1906/1906 [==============================] - 908s 476ms/step - loss: 0.5454 - accuracy: 0.8166\n",
            "Epoch 3/5\n",
            "1906/1906 [==============================] - 866s 454ms/step - loss: 0.3524 - accuracy: 0.8831\n",
            "Epoch 4/5\n",
            "1906/1906 [==============================] - 892s 468ms/step - loss: 0.2619 - accuracy: 0.9144\n",
            "Epoch 5/5\n",
            "1906/1906 [==============================] - 889s 467ms/step - loss: 0.2090 - accuracy: 0.9314\n"
          ],
          "name": "stdout"
        }
      ]
    },
    {
      "cell_type": "code",
      "metadata": {
        "id": "FhyDvYacfmty",
        "colab_type": "code",
        "colab": {}
      },
      "source": [
        "model1.save('model1.h5')\n"
      ],
      "execution_count": 0,
      "outputs": []
    },
    {
      "cell_type": "code",
      "metadata": {
        "id": "q4gv7DNfw5k0",
        "colab_type": "code",
        "outputId": "7928b9d6-af1a-4279-e4fc-7de0f5000f6e",
        "colab": {
          "base_uri": "https://localhost:8080/",
          "height": 918
        }
      },
      "source": [
        "%ls"
      ],
      "execution_count": 0,
      "outputs": [
        {
          "output_type": "stream",
          "text": [
            " Accounts.gdoc\n",
            " \u001b[0m\u001b[01;34masl_alphabet_image_classification\u001b[0m/\n",
            "'bb logo v2 (05:29:19).pdf'\n",
            "'Behavioral quizz write-up 301.gdoc'\n",
            "'Capstone MVP presentation.gslides'\n",
            "'ceative resume.gdoc'\n",
            "'CF 301 reading journal.gdoc'\n",
            " \u001b[01;34mCodefellows\u001b[0m/\n",
            "'(codefellows)Answers to Common Behavioral Questions.gdoc'\n",
            " communication.mp3\n",
            " copy_base__inceptionv3.h5\n",
            " \u001b[01;34mdata\u001b[0m/\n",
            " Fin:BobbyBrooka_AsIShould.mp3\n",
            " Fin_Mischief.mp3\n",
            "'Fin_Wreckage 3.mp3'\n",
            "'Flatiron Capstone Proposal.gdoc'\n",
            "\u001b[01;34m'flatiron notes'\u001b[0m/\n",
            "'Getting started.pdf'\n",
            "\"hot n' cold beat RW.mp3\"\n",
            "'ice man (concept not finished).mp3'\n",
            "'Image 11-18-19 at 11.12 AM.JPG'\n",
            "'in my ceiling.mp3'\n",
            "'in my ceiling (w VERY ROUGH voc concept).mp3'\n",
            "'Kaia_RedWine_BetweenUs 2.mp3'\n",
            " Kaia_RedWine_BetweenUs.mp3\n",
            "'mischief (1).mp3'\n",
            " mischief.mp3\n",
            " model1.h5\n",
            "'Norwood_TollFree[Master].mp3'\n",
            "'nothing nowhere.mp3'\n",
            "\u001b[01;34m'pain on your thigh'\u001b[0m/\n",
            "'pain on your thigh 1-Drum Rack.mp3'\n",
            "'pain on your thigh 2-Addictive Keys.mp3'\n",
            "'pain on your thigh 3-Addictive Keys.mp3'\n",
            "'pain on your thigh 4-Serum.mp3'\n",
            "'pain on your thigh 5-Serum.mp3'\n",
            "'pain on your thigh 6-Serum.mp3'\n",
            "'pain on your thigh 7-Serum.mp3'\n",
            "'pain on your thigh 8-808.mp3'\n",
            "'pain on your thigh.mp3'\n",
            "'pain on your thigh Vocals-ad libs:chops.mp3'\n",
            "'pain on your thigh Vocals-Main.mp3'\n",
            "'Property Lease Agreement - 24006 50th Pl W - PG Signed-2.pdf'\n",
            " rain.mp3\n",
            "'redwine tape 1'\n",
            " Resume.gdoc\n",
            "'Sam Thurman - resume.gdoc'\n",
            "'STARE prod. sneak.mp3'\n",
            "'sunday kawfe.mp3'\n",
            " terminal.ipynb\n",
            "'Untitled spreadsheet.gsheet'\n",
            "'video spaces.gdoc'\n",
            "'work school pwds.gdoc'\n"
          ],
          "name": "stdout"
        }
      ]
    },
    {
      "cell_type": "code",
      "metadata": {
        "id": "EqWWogl_w5nN",
        "colab_type": "code",
        "colab": {}
      },
      "source": [
        "del model1"
      ],
      "execution_count": 0,
      "outputs": []
    },
    {
      "cell_type": "code",
      "metadata": {
        "id": "MrKEsDj0w5pq",
        "colab_type": "code",
        "outputId": "8d58d404-58d8-4e66-e465-0cd167b64716",
        "colab": {
          "base_uri": "https://localhost:8080/",
          "height": 34
        }
      },
      "source": [
        ""
      ],
      "execution_count": 0,
      "outputs": [
        {
          "output_type": "execute_result",
          "data": {
            "text/plain": [
              "950877"
            ]
          },
          "metadata": {
            "tags": []
          },
          "execution_count": 30
        }
      ]
    },
    {
      "cell_type": "code",
      "metadata": {
        "id": "memLmPYvoFdd",
        "colab_type": "code",
        "colab": {}
      },
      "source": [
        ""
      ],
      "execution_count": 0,
      "outputs": []
    }
  ]
}