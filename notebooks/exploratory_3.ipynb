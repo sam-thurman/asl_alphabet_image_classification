{
  "nbformat": 4,
  "nbformat_minor": 0,
  "metadata": {
    "colab": {
      "name": "exploratory_3.ipynb",
      "provenance": [],
      "machine_shape": "hm",
      "authorship_tag": "ABX9TyNYiqy8lhYlt7XVAbFXIJhZ",
      "include_colab_link": true
    },
    "kernelspec": {
      "name": "python3",
      "display_name": "Python 3"
    },
    "accelerator": "TPU"
  },
  "cells": [
    {
      "cell_type": "markdown",
      "metadata": {
        "id": "view-in-github",
        "colab_type": "text"
      },
      "source": [
        "<a href=\"https://colab.research.google.com/github/sam-thurman/asl_alphabet_image_classification/blob/master/exploratory_3.ipynb\" target=\"_parent\"><img src=\"https://colab.research.google.com/assets/colab-badge.svg\" alt=\"Open In Colab\"/></a>"
      ]
    },
    {
      "cell_type": "code",
      "metadata": {
        "id": "xYA99525EDJX",
        "colab_type": "code",
        "colab": {
          "base_uri": "https://localhost:8080/",
          "height": 88
        },
        "outputId": "29ca06cd-cc26-4177-ccfc-f1c98e3cf3d9"
      },
      "source": [
        "import pandas as pd\n",
        "import numpy as np\n",
        "import scipy as math\n",
        "import matplotlib.pyplot as plt\n",
        "import seaborn as sns\n",
        "import pickle\n",
        "# from PIL import Image\n",
        "\n",
        "from sklearn.model_selection import train_test_split\n",
        "import keras\n",
        "\n",
        "from keras.preprocessing.image import ImageDataGenerator, array_to_img, img_to_array, load_img\n",
        "\n",
        "from keras.models import Model, Sequential\n",
        "from keras import layers\n",
        "from keras.layers import Dense, Input, Dropout, GlobalAveragePooling2D, Flatten, Conv2D, BatchNormalization, Activation, MaxPooling2D\n",
        "from keras import optimizers\n",
        "from keras.optimizers import Adam\n",
        "\n",
        "import sys\n",
        "import os\n"
      ],
      "execution_count": 1,
      "outputs": [
        {
          "output_type": "stream",
          "text": [
            "/usr/local/lib/python3.6/dist-packages/statsmodels/tools/_testing.py:19: FutureWarning: pandas.util.testing is deprecated. Use the functions in the public API at pandas.testing instead.\n",
            "  import pandas.util.testing as tm\n",
            "Using TensorFlow backend.\n"
          ],
          "name": "stderr"
        }
      ]
    },
    {
      "cell_type": "code",
      "metadata": {
        "id": "IaXsKNLfEIgj",
        "colab_type": "code",
        "colab": {
          "base_uri": "https://localhost:8080/",
          "height": 122
        },
        "outputId": "ab887f37-94b5-4665-ffaf-d0d2566c30b6"
      },
      "source": [
        "# mount google drive\n",
        "from google.colab import drive\n",
        "# drive.mount('/content/drive/My Drive/data')\n",
        "drive.mount('/content/drive')"
      ],
      "execution_count": 3,
      "outputs": [
        {
          "output_type": "stream",
          "text": [
            "Go to this URL in a browser: https://accounts.google.com/o/oauth2/auth?client_id=947318989803-6bn6qk8qdgf4n4g3pfee6491hc0brc4i.apps.googleusercontent.com&redirect_uri=urn%3aietf%3awg%3aoauth%3a2.0%3aoob&response_type=code&scope=email%20https%3a%2f%2fwww.googleapis.com%2fauth%2fdocs.test%20https%3a%2f%2fwww.googleapis.com%2fauth%2fdrive%20https%3a%2f%2fwww.googleapis.com%2fauth%2fdrive.photos.readonly%20https%3a%2f%2fwww.googleapis.com%2fauth%2fpeopleapi.readonly\n",
            "\n",
            "Enter your authorization code:\n",
            "··········\n",
            "Mounted at /content/drive\n"
          ],
          "name": "stdout"
        }
      ]
    },
    {
      "cell_type": "code",
      "metadata": {
        "id": "BiLERIrHEI2R",
        "colab_type": "code",
        "colab": {
          "base_uri": "https://localhost:8080/",
          "height": 969
        },
        "outputId": "1bf33024-df7c-41b4-fe8d-f42b607d6611"
      },
      "source": [
        "# change directory into drive\n",
        "%cd drive/My\\ Drive/\n",
        "%ls"
      ],
      "execution_count": 4,
      "outputs": [
        {
          "output_type": "stream",
          "text": [
            "/content/drive/My Drive\n",
            " Accounts.gdoc\n",
            " \u001b[0m\u001b[01;34masl_alphabet_image_classification\u001b[0m/\n",
            "'bb logo v2 (05:29:19).pdf'\n",
            "'Behavioral quizz write-up 301.gdoc'\n",
            "'Capstone MVP presentation.gslides'\n",
            "'ceative resume.gdoc'\n",
            "'CF 301 reading journal.gdoc'\n",
            " \u001b[01;34mCodefellows\u001b[0m/\n",
            "'(codefellows)Answers to Common Behavioral Questions.gdoc'\n",
            " communication.mp3\n",
            " copy_base__inceptionv3.h5\n",
            " copy_base_model.h5\n",
            " copy_model1.h5\n",
            " copy_model2.h5\n",
            " \u001b[01;34mdata\u001b[0m/\n",
            " Fin:BobbyBrooka_AsIShould.mp3\n",
            " Fin_Mischief.mp3\n",
            "'Fin_Wreckage 3.mp3'\n",
            "'Flatiron Capstone Proposal.gdoc'\n",
            "\u001b[01;34m'flatiron notes'\u001b[0m/\n",
            "'Getting started.pdf'\n",
            "\"hot n' cold beat RW.mp3\"\n",
            "'ice man (concept not finished).mp3'\n",
            "'Image 11-18-19 at 11.12 AM.JPG'\n",
            "'in my ceiling.mp3'\n",
            "'in my ceiling (w VERY ROUGH voc concept).mp3'\n",
            "'Kaia_RedWine_BetweenUs 2.mp3'\n",
            " Kaia_RedWine_BetweenUs.mp3\n",
            "'mischief (1).mp3'\n",
            " mischief.mp3\n",
            "'Norwood_TollFree[Master].mp3'\n",
            "'nothing nowhere.mp3'\n",
            "\u001b[01;34m'pain on your thigh'\u001b[0m/\n",
            "'pain on your thigh 1-Drum Rack.mp3'\n",
            "'pain on your thigh 2-Addictive Keys.mp3'\n",
            "'pain on your thigh 3-Addictive Keys.mp3'\n",
            "'pain on your thigh 4-Serum.mp3'\n",
            "'pain on your thigh 5-Serum.mp3'\n",
            "'pain on your thigh 6-Serum.mp3'\n",
            "'pain on your thigh 7-Serum.mp3'\n",
            "'pain on your thigh 8-808.mp3'\n",
            "'pain on your thigh.mp3'\n",
            "'pain on your thigh Vocals-ad libs:chops.mp3'\n",
            "'pain on your thigh Vocals-Main.mp3'\n",
            "'Property Lease Agreement - 24006 50th Pl W - PG Signed-2.pdf'\n",
            " rain.mp3\n",
            "'redwine tape 1'\n",
            " Resume.gdoc\n",
            "'Sam Thurman - resume.gdoc'\n",
            "'STARE prod. sneak.mp3'\n",
            "'sunday kawfe.mp3'\n",
            " terminal.ipynb\n",
            "'Untitled spreadsheet.gsheet'\n",
            "'video spaces.gdoc'\n",
            "'work school pwds.gdoc'\n"
          ],
          "name": "stdout"
        }
      ]
    },
    {
      "cell_type": "code",
      "metadata": {
        "id": "PsEAWYX4EI4m",
        "colab_type": "code",
        "colab": {}
      },
      "source": [
        "train_path = 'data/asl_alphabet_train'\n",
        "validation_path = 'data/asl_alphabet_validation'"
      ],
      "execution_count": 0,
      "outputs": []
    },
    {
      "cell_type": "code",
      "metadata": {
        "id": "cG-VlLYGEI7J",
        "colab_type": "code",
        "colab": {}
      },
      "source": [
        "# image generator instance\n",
        "datagen = keras.preprocessing.image.ImageDataGenerator(\n",
        "                rescale=1./255,\n",
        "                validation_split=0.3) \n",
        "valgen = keras.preprocessing.image.ImageDataGenerator(\n",
        "                rescale=1./255) "
      ],
      "execution_count": 0,
      "outputs": []
    },
    {
      "cell_type": "code",
      "metadata": {
        "id": "CpYrC7HvEe3p",
        "colab_type": "code",
        "colab": {
          "base_uri": "https://localhost:8080/",
          "height": 136
        },
        "outputId": "29a25012-e521-43b1-adba-0528fd87cbac"
      },
      "source": [
        "\n",
        "image_size = 128\n",
        "batch_size = 32\n",
        "\n",
        "print('done')\n",
        "train_generator = datagen.flow_from_directory(\n",
        "                train_path,  #directory for training images\n",
        "                target_size=(image_size, image_size),\n",
        "                batch_size=batch_size,\n",
        "                class_mode='categorical',\n",
        "                color_mode='grayscale',\n",
        "                shuffle=True,\n",
        "                subset='training')\n",
        "print('done')\n",
        "test_generator = datagen.flow_from_directory(\n",
        "                train_path,  # same directory for testing images\n",
        "                target_size=(image_size, image_size),\n",
        "                batch_size=batch_size,\n",
        "                class_mode='categorical',\n",
        "                color_mode='grayscale',\n",
        "                shuffle=True,\n",
        "                subset='validation')\n",
        "print('done')\n",
        "val_generator = valgen.flow_from_directory(\n",
        "                validation_path,  # directory for validation images\n",
        "                target_size=(image_size, image_size),\n",
        "                batch_size=batch_size,\n",
        "                class_mode='categorical',\n",
        "                color_mode='grayscale',\n",
        "                shuffle=False)\n",
        "print('done')"
      ],
      "execution_count": 8,
      "outputs": [
        {
          "output_type": "stream",
          "text": [
            "done\n",
            "Found 60991 images belonging to 29 classes.\n",
            "done\n",
            "Found 26134 images belonging to 29 classes.\n",
            "done\n",
            "Found 30 images belonging to 29 classes.\n",
            "done\n"
          ],
          "name": "stdout"
        }
      ]
    },
    {
      "cell_type": "code",
      "metadata": {
        "id": "oTk1MmmWEfL2",
        "colab_type": "code",
        "colab": {}
      },
      "source": [
        "nb_classes = 29\n",
        "\n",
        "# initialize CNN\n",
        "model3 = Sequential()\n",
        "\n",
        "# 1st conv layer\n",
        "model3.add(Conv2D(32,(3,3), padding='same', input_shape=(image_size, image_size,1)))\n",
        "model3.add(BatchNormalization())\n",
        "model3.add(Activation('relu'))\n",
        "model3.add(MaxPooling2D(pool_size=(2, 2)))\n",
        "model3.add(Dropout(0.25))\n",
        "\n",
        "# 2nd conv layer\n",
        "model3.add(Conv2D(64,(5,5), padding='same'))\n",
        "model3.add(BatchNormalization())\n",
        "model3.add(Activation('relu'))\n",
        "model3.add(MaxPooling2D(pool_size=(2, 2)))\n",
        "model3.add(Dropout(0.25))\n",
        "\n",
        "# 3rd conv layer\n",
        "model3.add(Conv2D(128,(3,3), padding='same'))\n",
        "model3.add(BatchNormalization())\n",
        "model3.add(Activation('relu'))\n",
        "model3.add(MaxPooling2D(pool_size=(2, 2)))\n",
        "model3.add(Dropout(0.25))\n",
        "\n",
        "# 4th conv layer\n",
        "model3.add(Conv2D(128,(3,3), padding='same'))\n",
        "model3.add(BatchNormalization())\n",
        "model3.add(Activation('relu'))\n",
        "model3.add(MaxPooling2D(pool_size=(2, 2)))\n",
        "model3.add(Dropout(0.25))\n",
        "\n",
        "# flattening\n",
        "model3.add(Flatten())\n",
        "\n",
        "# 1st fully connected layer\n",
        "model3.add(Dense(128))\n",
        "model3.add(BatchNormalization())\n",
        "model3.add(Activation('relu'))\n",
        "model3.add(Dropout(0.4))\n",
        "\n",
        "# 2nd fully connected layer\n",
        "model3.add(Dense(64))\n",
        "model3.add(BatchNormalization())\n",
        "model3.add(Activation('relu'))\n",
        "model3.add(Dropout(0.3))\n",
        "\n",
        "model3.add(Dense(nb_classes, activation='softmax'))\n",
        "\n"
      ],
      "execution_count": 0,
      "outputs": []
    },
    {
      "cell_type": "code",
      "metadata": {
        "id": "Ui4856ATEfOj",
        "colab_type": "code",
        "colab": {}
      },
      "source": [
        "optimizer = Adam(lr=0.01)\n",
        "model3.compile(optimizer=optimizer, loss='categorical_crossentropy', metrics=['accuracy'])"
      ],
      "execution_count": 0,
      "outputs": []
    },
    {
      "cell_type": "code",
      "metadata": {
        "id": "-QG4ACUIEfQ9",
        "colab_type": "code",
        "colab": {
          "base_uri": "https://localhost:8080/",
          "height": 343
        },
        "outputId": "53b03b7e-5a0d-4540-f47b-191679692a32"
      },
      "source": [
        "hisotry3 = model3.fit_generator(train_generator, epochs=5)"
      ],
      "execution_count": 12,
      "outputs": [
        {
          "output_type": "stream",
          "text": [
            "Epoch 1/5\n",
            "  97/1906 [>.............................] - ETA: 5:21:33 - loss: 3.2665 - accuracy: 0.0892"
          ],
          "name": "stdout"
        },
        {
          "output_type": "stream",
          "text": [
            "/usr/local/lib/python3.6/dist-packages/keras/utils/data_utils.py:616: UserWarning: The input 169 could not be retrieved. It could be because a worker has died.\n",
            "  UserWarning)\n"
          ],
          "name": "stderr"
        },
        {
          "output_type": "stream",
          "text": [
            " 502/1906 [======>.......................] - ETA: 4:02:12 - loss: 2.5110 - accuracy: 0.2399"
          ],
          "name": "stdout"
        },
        {
          "output_type": "stream",
          "text": [
            "/usr/local/lib/python3.6/dist-packages/keras/utils/data_utils.py:616: UserWarning: The input 399 could not be retrieved. It could be because a worker has died.\n",
            "  UserWarning)\n"
          ],
          "name": "stderr"
        },
        {
          "output_type": "stream",
          "text": [
            "1217/1906 [==================>...........] - ETA: 1:57:13 - loss: 1.8402 - accuracy: 0.4176"
          ],
          "name": "stdout"
        },
        {
          "output_type": "stream",
          "text": [
            "/usr/local/lib/python3.6/dist-packages/keras/utils/data_utils.py:616: UserWarning: The input 623 could not be retrieved. It could be because a worker has died.\n",
            "  UserWarning)\n"
          ],
          "name": "stderr"
        },
        {
          "output_type": "stream",
          "text": [
            "1576/1906 [=======================>......] - ETA: 55:36 - loss: 1.6471 - accuracy: 0.4733"
          ],
          "name": "stdout"
        },
        {
          "output_type": "stream",
          "text": [
            "/usr/local/lib/python3.6/dist-packages/keras/utils/data_utils.py:616: UserWarning: The input 1048 could not be retrieved. It could be because a worker has died.\n",
            "  UserWarning)\n"
          ],
          "name": "stderr"
        },
        {
          "output_type": "stream",
          "text": [
            "1906/1906 [==============================] - 19167s 10s/step - loss: 1.5075 - accuracy: 0.5150\n",
            "Epoch 2/5\n",
            "1906/1906 [==============================] - 689s 361ms/step - loss: 0.6039 - accuracy: 0.7954\n",
            "Epoch 3/5\n",
            "1906/1906 [==============================] - 690s 362ms/step - loss: 0.3793 - accuracy: 0.8743\n",
            "Epoch 4/5\n",
            "1906/1906 [==============================] - 693s 364ms/step - loss: 0.2756 - accuracy: 0.9112\n",
            "Epoch 5/5\n",
            "1906/1906 [==============================] - 691s 362ms/step - loss: 0.2221 - accuracy: 0.9278\n"
          ],
          "name": "stdout"
        }
      ]
    },
    {
      "cell_type": "code",
      "metadata": {
        "id": "mb7K3inpGKvI",
        "colab_type": "code",
        "colab": {}
      },
      "source": [
        "model3.save('model3.h5')\n",
        "del model3"
      ],
      "execution_count": 0,
      "outputs": []
    },
    {
      "cell_type": "code",
      "metadata": {
        "id": "Ii5ZJajRGXcU",
        "colab_type": "code",
        "colab": {
          "base_uri": "https://localhost:8080/",
          "height": 969
        },
        "outputId": "f5ce7667-46c1-4919-fdfb-125c568bb612"
      },
      "source": [
        "%ls"
      ],
      "execution_count": 14,
      "outputs": [
        {
          "output_type": "stream",
          "text": [
            " Accounts.gdoc\n",
            " \u001b[0m\u001b[01;34masl_alphabet_image_classification\u001b[0m/\n",
            "'bb logo v2 (05:29:19).pdf'\n",
            "'Behavioral quizz write-up 301.gdoc'\n",
            "'Capstone MVP presentation.gslides'\n",
            "'ceative resume.gdoc'\n",
            "'CF 301 reading journal.gdoc'\n",
            " \u001b[01;34mCodefellows\u001b[0m/\n",
            "'(codefellows)Answers to Common Behavioral Questions.gdoc'\n",
            " communication.mp3\n",
            " copy_base__inceptionv3.h5\n",
            " copy_base_model.h5\n",
            " copy_model1.h5\n",
            " copy_model2.h5\n",
            " \u001b[01;34mdata\u001b[0m/\n",
            " Fin:BobbyBrooka_AsIShould.mp3\n",
            " Fin_Mischief.mp3\n",
            "'Fin_Wreckage 3.mp3'\n",
            "'Flatiron Capstone Proposal.gdoc'\n",
            "\u001b[01;34m'flatiron notes'\u001b[0m/\n",
            "'Getting started.pdf'\n",
            "\"hot n' cold beat RW.mp3\"\n",
            "'ice man (concept not finished).mp3'\n",
            "'Image 11-18-19 at 11.12 AM.JPG'\n",
            "'in my ceiling.mp3'\n",
            "'in my ceiling (w VERY ROUGH voc concept).mp3'\n",
            "'Kaia_RedWine_BetweenUs 2.mp3'\n",
            " Kaia_RedWine_BetweenUs.mp3\n",
            "'mischief (1).mp3'\n",
            " mischief.mp3\n",
            " model3.h5\n",
            "'Norwood_TollFree[Master].mp3'\n",
            "'nothing nowhere.mp3'\n",
            "\u001b[01;34m'pain on your thigh'\u001b[0m/\n",
            "'pain on your thigh 1-Drum Rack.mp3'\n",
            "'pain on your thigh 2-Addictive Keys.mp3'\n",
            "'pain on your thigh 3-Addictive Keys.mp3'\n",
            "'pain on your thigh 4-Serum.mp3'\n",
            "'pain on your thigh 5-Serum.mp3'\n",
            "'pain on your thigh 6-Serum.mp3'\n",
            "'pain on your thigh 7-Serum.mp3'\n",
            "'pain on your thigh 8-808.mp3'\n",
            "'pain on your thigh.mp3'\n",
            "'pain on your thigh Vocals-ad libs:chops.mp3'\n",
            "'pain on your thigh Vocals-Main.mp3'\n",
            "'Property Lease Agreement - 24006 50th Pl W - PG Signed-2.pdf'\n",
            " rain.mp3\n",
            "'redwine tape 1'\n",
            " Resume.gdoc\n",
            "'Sam Thurman - resume.gdoc'\n",
            "'STARE prod. sneak.mp3'\n",
            "'sunday kawfe.mp3'\n",
            " terminal.ipynb\n",
            "'Untitled spreadsheet.gsheet'\n",
            "'video spaces.gdoc'\n",
            "'work school pwds.gdoc'\n"
          ],
          "name": "stdout"
        }
      ]
    },
    {
      "cell_type": "code",
      "metadata": {
        "id": "oPVQKAfgGYX_",
        "colab_type": "code",
        "colab": {}
      },
      "source": [
        "from keras.models import load_model\n",
        "model3 = load_model('model3.h5')"
      ],
      "execution_count": 0,
      "outputs": []
    },
    {
      "cell_type": "code",
      "metadata": {
        "id": "QnM1GacmGaM7",
        "colab_type": "code",
        "colab": {
          "base_uri": "https://localhost:8080/",
          "height": 51
        },
        "outputId": "5bb912e4-d82d-4aeb-9d46-dca754ae0603"
      },
      "source": [
        "model3.evaluate_generator(val_generator, verbose=1)"
      ],
      "execution_count": 16,
      "outputs": [
        {
          "output_type": "stream",
          "text": [
            "\r1/1 [==============================] - 9s 9s/step\n"
          ],
          "name": "stdout"
        },
        {
          "output_type": "execute_result",
          "data": {
            "text/plain": [
              "[0.16693522036075592, 0.9666666388511658]"
            ]
          },
          "metadata": {
            "tags": []
          },
          "execution_count": 16
        }
      ]
    },
    {
      "cell_type": "code",
      "metadata": {
        "id": "VulBIAGumS3_",
        "colab_type": "code",
        "colab": {}
      },
      "source": [
        ""
      ],
      "execution_count": 0,
      "outputs": []
    }
  ]
}