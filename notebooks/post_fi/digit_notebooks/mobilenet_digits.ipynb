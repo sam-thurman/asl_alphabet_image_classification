{
 "cells": [
  {
   "cell_type": "code",
   "execution_count": 1,
   "metadata": {},
   "outputs": [],
   "source": [
    "import sys\n",
    "import os\n",
    "import cv2\n",
    "from PIL import Image\n",
    "# from tensorflow.keras.applications.mobilenet_v2 import MobileNetV2, preprocess_input, decode_predictions\n",
    "from tensorflow.keras.applications.mobilenet import MobileNet, preprocess_input, decode_predictions\n",
    "# from tensorflow.keras.applications.resnet50 import ResNet50, preprocess_input, decode_predictions\n",
    "\n",
    "import tensorflow.keras as keras\n",
    "from tensorflow.keras.models import Model, Sequential\n",
    "from tensorflow.keras.layers import Input, UpSampling2D, Flatten, BatchNormalization, Dense, Dropout, GlobalAveragePooling2D\n",
    "from tensorflow.keras import optimizers\n",
    "from keras.datasets import cifar100\n",
    "import tensorflow as tf\n",
    "from keras.utils import np_utils\n",
    "import numpy as np\n",
    "import matplotlib.pyplot as plt\n",
    "import time\n",
    "from skimage.transform import resize\n",
    "# from keras.applications.resnet50 import preprocess_input, decode_predictions\n",
    "from keras.preprocessing.image import ImageDataGenerator"
   ]
  },
  {
   "cell_type": "code",
   "execution_count": 2,
   "metadata": {},
   "outputs": [],
   "source": [
    "def get_random_eraser(p=0.5, s_l=0.02, s_h=0.4, r_1=0.3, r_2=1/0.3, v_l=0, v_h=255, pixel_level=False):\n",
    "    def eraser(input_img):\n",
    "        img_h, img_w, img_c = input_img.shape\n",
    "        p_1 = np.random.rand()\n",
    "\n",
    "        if p_1 > p:\n",
    "            return input_img\n",
    "\n",
    "        while True:\n",
    "            s = np.random.uniform(s_l, s_h) * img_h * img_w\n",
    "            r = np.random.uniform(r_1, r_2)\n",
    "            w = int(np.sqrt(s / r))\n",
    "            h = int(np.sqrt(s * r))\n",
    "            left = np.random.randint(0, img_w)\n",
    "            top = np.random.randint(0, img_h)\n",
    "\n",
    "            if left + w <= img_w and top + h <= img_h:\n",
    "                break\n",
    "\n",
    "        if pixel_level:\n",
    "            c = np.random.uniform(v_l, v_h, (h, w, img_c))\n",
    "        else:\n",
    "            c = np.random.uniform(v_l, v_h)\n",
    "\n",
    "        input_img[top:top + h, left:left + w, :] = c\n",
    "\n",
    "        return input_img\n",
    "\n",
    "    return eraser"
   ]
  },
  {
   "cell_type": "code",
   "execution_count": 3,
   "metadata": {},
   "outputs": [],
   "source": [
    "def load_images_from_folder(folder):\n",
    "    images = []\n",
    "    for filename in os.listdir(folder):\n",
    "        img = cv2.imread(os.path.join(folder,filename))\n",
    "        if img is not None:\n",
    "            images.append(img)\n",
    "    return images"
   ]
  },
  {
   "cell_type": "code",
   "execution_count": 4,
   "metadata": {},
   "outputs": [
    {
     "name": "stdout",
     "output_type": "stream",
     "text": [
      "Found 1654 images belonging to 10 classes.\n",
      "Found 409 images belonging to 10 classes.\n"
     ]
    }
   ],
   "source": [
    "num_classes = 10\n",
    "nb_epochs = 10\n",
    "img_sz = (224, 224)\n",
    "\n",
    "# data paths\n",
    "data_path = '../../../data/asl_digits/'\n",
    "\n",
    "# train_datagen = ImageDataGenerator(preprocessing_function=preprocess_input,\n",
    "#                                    rescale=1./255,\n",
    "#                                    shear_range=0.2,\n",
    "#                                    zoom_range=0.2,\n",
    "#                                    horizontal_flip=True,\n",
    "#                                    validation_split=0.2)\n",
    "train_datagen = ImageDataGenerator(preprocessing_function=preprocess_input, validation_split=0.2)\n",
    "# valid_datagen = ImageDataGenerator(preprocessing_function=preprocess_input, rescale=1./255)\n",
    "train_generator = train_datagen.flow_from_directory(\n",
    "        data_path,\n",
    "        target_size=img_sz,\n",
    "        color_mode='rgb',\n",
    "        batch_size=10,\n",
    "        class_mode='categorical',\n",
    "        subset='training')\n",
    "test_generator = train_datagen.flow_from_directory(\n",
    "        data_path,\n",
    "        target_size=img_sz,\n",
    "        color_mode='rgb',\n",
    "        batch_size=10,\n",
    "        class_mode='categorical',\n",
    "        subset='validation')\n",
    "# validation_generator = valid_datagen.flow_from_directory(\n",
    "#         validation_path,\n",
    "#         target_size=img_sz,\n",
    "#         color_mode='rgb',\n",
    "#         batch_size=32,\n",
    "#         class_mode='categorical')"
   ]
  },
  {
   "cell_type": "code",
   "execution_count": 5,
   "metadata": {},
   "outputs": [
    {
     "data": {
      "text/plain": [
       "(224, 224, 3)"
      ]
     },
     "execution_count": 5,
     "metadata": {},
     "output_type": "execute_result"
    }
   ],
   "source": [
    "next(train_generator)[0][0].shape"
   ]
  },
  {
   "cell_type": "code",
   "execution_count": 6,
   "metadata": {},
   "outputs": [],
   "source": [
    "base_model = MobileNet() #imports the mobilenet model and discards the last 1000 neuron layer.\n",
    "\n",
    "x = base_model.layers[-6].output\n",
    "predictions = Dense(10, activation='softmax')(x)"
   ]
  },
  {
   "cell_type": "code",
   "execution_count": 7,
   "metadata": {},
   "outputs": [],
   "source": [
    "model = Model(inputs=base_model.input, outputs=predictions)"
   ]
  },
  {
   "cell_type": "code",
   "execution_count": 8,
   "metadata": {},
   "outputs": [],
   "source": [
    "# for layer in model.layers:\n",
    "#     layer.trainable=False\n",
    "# or if we want to set the first 20 layers of the network to be non-trainable\n",
    "for layer in model.layers[:-23]:\n",
    "    layer.trainable=False"
   ]
  },
  {
   "cell_type": "code",
   "execution_count": 9,
   "metadata": {},
   "outputs": [],
   "source": [
    "# model.add(resnet_model)\n",
    "# model.add(GlobalAveragePooling2D())\n",
    "# model.add(Dense(256, activation='relu'))\n",
    "# model.add(Dropout(.25))\n",
    "# model.add(BatchNormalization())\n",
    "# model.add(Dense(num_classes, activation='softmax'))\n",
    "model.compile(optimizers.Adam(learning_rate=.0001), loss='categorical_crossentropy', metrics=['accuracy'])"
   ]
  },
  {
   "cell_type": "code",
   "execution_count": 10,
   "metadata": {},
   "outputs": [
    {
     "name": "stdout",
     "output_type": "stream",
     "text": [
      "Epoch 1/15\n",
      "  1/166 [..............................] - ETA: 0s - loss: 3.6288 - accuracy: 0.0000e+00WARNING:tensorflow:From /Users/sam/opt/anaconda3/envs/learn-env/lib/python3.6/site-packages/tensorflow/python/ops/summary_ops_v2.py:1277: stop (from tensorflow.python.eager.profiler) is deprecated and will be removed after 2020-07-01.\n",
      "Instructions for updating:\n",
      "use `tf.profiler.experimental.stop` instead.\n",
      "166/166 [==============================] - 55s 334ms/step - loss: 0.5715 - accuracy: 0.8356 - val_loss: 0.5102 - val_accuracy: 0.8435\n",
      "Epoch 2/15\n",
      "166/166 [==============================] - 58s 352ms/step - loss: 0.0945 - accuracy: 0.9837 - val_loss: 0.3643 - val_accuracy: 0.8851\n",
      "Epoch 3/15\n",
      "166/166 [==============================] - 84s 503ms/step - loss: 0.0462 - accuracy: 0.9958 - val_loss: 0.3024 - val_accuracy: 0.9120\n",
      "Epoch 4/15\n",
      "166/166 [==============================] - 73s 439ms/step - loss: 0.0341 - accuracy: 0.9952 - val_loss: 0.3475 - val_accuracy: 0.8802\n",
      "Epoch 5/15\n",
      "166/166 [==============================] - 65s 390ms/step - loss: 0.0194 - accuracy: 0.9988 - val_loss: 0.3376 - val_accuracy: 0.8851\n",
      "Epoch 6/15\n",
      "166/166 [==============================] - 67s 404ms/step - loss: 0.0135 - accuracy: 0.9994 - val_loss: 0.3414 - val_accuracy: 0.8851\n",
      "Epoch 7/15\n",
      "166/166 [==============================] - 70s 420ms/step - loss: 0.0112 - accuracy: 0.9994 - val_loss: 0.3104 - val_accuracy: 0.8875\n",
      "Epoch 8/15\n",
      "166/166 [==============================] - 68s 412ms/step - loss: 0.0066 - accuracy: 1.0000 - val_loss: 0.2948 - val_accuracy: 0.8924\n",
      "Epoch 9/15\n",
      "166/166 [==============================] - 68s 409ms/step - loss: 0.0086 - accuracy: 0.9994 - val_loss: 0.3229 - val_accuracy: 0.8802\n",
      "Epoch 10/15\n",
      "166/166 [==============================] - 69s 414ms/step - loss: 0.0113 - accuracy: 0.9976 - val_loss: 0.4833 - val_accuracy: 0.8460\n",
      "Epoch 11/15\n",
      "166/166 [==============================] - 68s 407ms/step - loss: 0.0070 - accuracy: 1.0000 - val_loss: 0.3753 - val_accuracy: 0.8631\n",
      "Epoch 12/15\n",
      "166/166 [==============================] - 69s 413ms/step - loss: 0.0040 - accuracy: 1.0000 - val_loss: 0.3609 - val_accuracy: 0.8680\n",
      "Epoch 13/15\n",
      "166/166 [==============================] - 68s 411ms/step - loss: 0.0043 - accuracy: 1.0000 - val_loss: 0.3703 - val_accuracy: 0.8729\n",
      "Epoch 14/15\n",
      "166/166 [==============================] - 68s 409ms/step - loss: 0.0024 - accuracy: 1.0000 - val_loss: 0.2997 - val_accuracy: 0.8998\n",
      "Epoch 15/15\n",
      "166/166 [==============================] - 69s 413ms/step - loss: 0.0029 - accuracy: 1.0000 - val_loss: 0.3368 - val_accuracy: 0.8924\n",
      "Training time: -1025.700748682022\n"
     ]
    }
   ],
   "source": [
    "EarlyStop = keras.callbacks.EarlyStopping(monitor=\"val_accuracy\",\n",
    "                                           min_delta=0,\n",
    "                                           patience=1,\n",
    "                                           verbose=0,\n",
    "                                           mode=\"auto\",\n",
    "                                           baseline=None,\n",
    "                                           restore_best_weights=False)\n",
    "TensorBoard = keras.callbacks.TensorBoard(log_dir='./tensorboard_logs')\n",
    "\n",
    "callbacks = [TensorBoard]\n",
    "t=time.time()\n",
    "historytemp = model.fit(train_generator,\n",
    "                        steps_per_epoch=len(train_generator),\n",
    "                        epochs=15,\n",
    "                        validation_data=test_generator,\n",
    "                        callbacks=callbacks)\n",
    "print('Training time: %s' % (t - time.time()))"
   ]
  },
  {
   "cell_type": "code",
   "execution_count": 18,
   "metadata": {},
   "outputs": [
    {
     "data": {
      "text/plain": [
       "(224, 224, 3)"
      ]
     },
     "execution_count": 18,
     "metadata": {},
     "output_type": "execute_result"
    }
   ],
   "source": [
    "next(test_generator)[0][0].shape"
   ]
  },
  {
   "cell_type": "code",
   "execution_count": 39,
   "metadata": {},
   "outputs": [
    {
     "data": {
      "text/plain": [
       "(1, 224, 224, 3)"
      ]
     },
     "execution_count": 39,
     "metadata": {},
     "output_type": "execute_result"
    }
   ],
   "source": [
    "im = Image.open('../../../data/asl_digits/5/IMG_1133.JPG').resize((224,224))\n",
    "im = np.expand_dims(np.array(im),axis=0)\n",
    "im.shape"
   ]
  },
  {
   "cell_type": "markdown",
   "metadata": {},
   "source": [
    "### Predictions"
   ]
  },
  {
   "cell_type": "code",
   "execution_count": 40,
   "metadata": {},
   "outputs": [
    {
     "data": {
      "text/plain": [
       "5"
      ]
     },
     "execution_count": 40,
     "metadata": {},
     "output_type": "execute_result"
    }
   ],
   "source": [
    "prediction = model.predict(np.array(im))\n",
    "prediction.argmax()"
   ]
  },
  {
   "cell_type": "code",
   "execution_count": 28,
   "metadata": {},
   "outputs": [],
   "source": [
    "test_labels = test_generator.labels"
   ]
  },
  {
   "cell_type": "code",
   "execution_count": 29,
   "metadata": {},
   "outputs": [
    {
     "data": {
      "text/plain": [
       "409"
      ]
     },
     "execution_count": 29,
     "metadata": {},
     "output_type": "execute_result"
    }
   ],
   "source": [
    "len(test_labels)"
   ]
  },
  {
   "cell_type": "code",
   "execution_count": 14,
   "metadata": {},
   "outputs": [
    {
     "data": {
      "text/plain": [
       "409"
      ]
     },
     "execution_count": 14,
     "metadata": {},
     "output_type": "execute_result"
    }
   ],
   "source": [
    "len(predictions)"
   ]
  },
  {
   "cell_type": "code",
   "execution_count": 15,
   "metadata": {},
   "outputs": [],
   "source": [
    "from sklearn.metrics import confusion_matrix, plot_confusion_matrix\n",
    "cm = confusion_matrix(test_labels, predictions.argmax(axis=1))"
   ]
  },
  {
   "cell_type": "code",
   "execution_count": 16,
   "metadata": {},
   "outputs": [
    {
     "data": {
      "text/plain": [
       "{'0': 0,\n",
       " '1': 1,\n",
       " '2': 2,\n",
       " '3': 3,\n",
       " '4': 4,\n",
       " '5': 5,\n",
       " '6': 6,\n",
       " '7': 7,\n",
       " '8': 8,\n",
       " '9': 9}"
      ]
     },
     "execution_count": 16,
     "metadata": {},
     "output_type": "execute_result"
    }
   ],
   "source": [
    "test_generator.class_indices"
   ]
  },
  {
   "cell_type": "code",
   "execution_count": 17,
   "metadata": {},
   "outputs": [
    {
     "data": {
      "text/plain": [
       "array([[ 4,  4,  2,  1,  4,  5,  5,  6,  4,  6],\n",
       "       [10,  2,  0,  5,  4,  4,  4,  1,  6,  5],\n",
       "       [ 0,  6,  6,  4,  3,  3,  7,  4,  7,  1],\n",
       "       [ 4,  4,  2,  7,  3,  3,  9,  3,  2,  4],\n",
       "       [ 3,  4,  1,  4,  4,  6, 10,  2,  5,  2],\n",
       "       [ 7,  8,  1,  1,  1,  3,  7,  3,  6,  4],\n",
       "       [ 4,  2,  3,  5,  2,  5,  8,  5,  4,  3],\n",
       "       [ 3,  4,  4,  2,  2,  6,  8,  3,  5,  4],\n",
       "       [ 2,  3,  2,  4,  5,  3, 10,  4,  3,  5],\n",
       "       [ 4,  4,  3,  3,  0,  6,  6,  3,  5,  6]])"
      ]
     },
     "execution_count": 17,
     "metadata": {},
     "output_type": "execute_result"
    }
   ],
   "source": [
    "cm"
   ]
  },
  {
   "cell_type": "code",
   "execution_count": 18,
   "metadata": {},
   "outputs": [
    {
     "name": "stderr",
     "output_type": "stream",
     "text": [
      "/Users/sam/opt/anaconda3/envs/learn-env/lib/python3.6/site-packages/statsmodels/tools/_testing.py:19: FutureWarning: pandas.util.testing is deprecated. Use the functions in the public API at pandas.testing instead.\n",
      "  import pandas.util.testing as tm\n"
     ]
    },
    {
     "data": {
      "text/plain": [
       "<matplotlib.axes._subplots.AxesSubplot at 0x7fe73e506ac8>"
      ]
     },
     "execution_count": 18,
     "metadata": {},
     "output_type": "execute_result"
    },
    {
     "data": {
      "image/png": "[encoded data removed]",
      "text/plain": [
       "<Figure size 432x288 with 2 Axes>"
      ]
     },
     "metadata": {
      "needs_background": "light"
     },
     "output_type": "display_data"
    }
   ],
   "source": [
    "import seaborn as sns\n",
    "\n",
    "cm_plot_labels = ['0', '1', '2', '3', '4', '5', '6', '7', '8', '9']\n",
    "sns.heatmap(cm)"
   ]
  },
  {
   "cell_type": "code",
   "execution_count": null,
   "metadata": {},
   "outputs": [],
   "source": []
  },
  {
   "cell_type": "code",
   "execution_count": 41,
   "metadata": {},
   "outputs": [],
   "source": [
    "model.save('../models/digits_model_1.h5')"
   ]
  },
  {
   "cell_type": "code",
   "execution_count": null,
   "metadata": {},
   "outputs": [],
   "source": []
  }
 ],
 "metadata": {
  "kernelspec": {
   "display_name": "Python 3.6.9 64-bit ('learn-env': conda)",
   "language": "python",
   "name": "python36964bitlearnenvcondae7e6328cec2744cc9785efcdf88db667"
  },
  "language_info": {
   "codemirror_mode": {
    "name": "ipython",
    "version": 3
   },
   "file_extension": ".py",
   "mimetype": "text/x-python",
   "name": "python",
   "nbconvert_exporter": "python",
   "pygments_lexer": "ipython3",
   "version": "3.6.9"
  }
 },
 "nbformat": 4,
 "nbformat_minor": 4
}
