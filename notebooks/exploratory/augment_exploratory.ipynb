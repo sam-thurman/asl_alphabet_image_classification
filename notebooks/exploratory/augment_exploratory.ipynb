{
  "nbformat": 4,
  "nbformat_minor": 0,
  "metadata": {
    "colab": {
      "name": "augment_exploratory.ipynb",
      "provenance": [],
      "collapsed_sections": [],
      "authorship_tag": "ABX9TyPNp9nb2DPZlr5uyjMw3Tm5",
      "include_colab_link": true
    },
    "kernelspec": {
      "name": "python3",
      "display_name": "Python 3"
    }
  },
  "cells": [
    {
      "cell_type": "markdown",
      "metadata": {
        "id": "view-in-github",
        "colab_type": "text"
      },
      "source": [
        "<a href=\"https://colab.research.google.com/github/sam-thurman/asl_alphabet_image_classification/blob/master/notebooks/augment_exploratory.ipynb\" target=\"_parent\"><img src=\"https://colab.research.google.com/assets/colab-badge.svg\" alt=\"Open In Colab\"/></a>"
      ]
    },
    {
      "cell_type": "code",
      "metadata": {
        "id": "PmuB2rpCOtYF",
        "colab_type": "code",
        "outputId": "f51c2fab-29cc-4b01-83cf-ab602eb479c6",
        "colab": {
          "base_uri": "https://localhost:8080/",
          "height": 88
        }
      },
      "source": [
        "import pandas as pd\n",
        "import numpy as np\n",
        "import scipy as math\n",
        "import matplotlib.pyplot as plt\n",
        "import seaborn as sns\n",
        "import pickle\n",
        "# from PIL import Image\n",
        "\n",
        "from sklearn.model_selection import train_test_split\n",
        "import keras\n",
        "\n",
        "from keras.preprocessing.image import ImageDataGenerator, array_to_img, img_to_array, load_img\n",
        "\n",
        "from keras.models import Model, Sequential\n",
        "from keras import layers\n",
        "from keras.layers import Dense, Input, Dropout, GlobalAveragePooling2D, Flatten, Conv2D, BatchNormalization, Activation, MaxPooling2D\n",
        "from keras import optimizers\n",
        "from keras.optimizers import Adam\n",
        "\n",
        "import sys\n",
        "import os\n"
      ],
      "execution_count": 0,
      "outputs": [
        {
          "output_type": "stream",
          "text": [
            "/usr/local/lib/python3.6/dist-packages/statsmodels/tools/_testing.py:19: FutureWarning: pandas.util.testing is deprecated. Use the functions in the public API at pandas.testing instead.\n",
            "  import pandas.util.testing as tm\n",
            "Using TensorFlow backend.\n"
          ],
          "name": "stderr"
        }
      ]
    },
    {
      "cell_type": "code",
      "metadata": {
        "id": "Uy1DCIg-O-6b",
        "colab_type": "code",
        "outputId": "a0407acd-9632-4248-adf1-826fcbae77d7",
        "colab": {
          "base_uri": "https://localhost:8080/",
          "height": 122
        }
      },
      "source": [
        "# mount google drive\n",
        "from google.colab import drive\n",
        "# drive.mount('/content/drive/My Drive/data')\n",
        "drive.mount('/content/drive')"
      ],
      "execution_count": 0,
      "outputs": [
        {
          "output_type": "stream",
          "text": [
            "Go to this URL in a browser: https://accounts.google.com/o/oauth2/auth?client_id=947318989803-6bn6qk8qdgf4n4g3pfee6491hc0brc4i.apps.googleusercontent.com&redirect_uri=urn%3aietf%3awg%3aoauth%3a2.0%3aoob&response_type=code&scope=email%20https%3a%2f%2fwww.googleapis.com%2fauth%2fdocs.test%20https%3a%2f%2fwww.googleapis.com%2fauth%2fdrive%20https%3a%2f%2fwww.googleapis.com%2fauth%2fdrive.photos.readonly%20https%3a%2f%2fwww.googleapis.com%2fauth%2fpeopleapi.readonly\n",
            "\n",
            "Enter your authorization code:\n",
            "··········\n",
            "Mounted at /content/drive\n"
          ],
          "name": "stdout"
        }
      ]
    },
    {
      "cell_type": "code",
      "metadata": {
        "id": "8i1N2gZMPAMg",
        "colab_type": "code",
        "outputId": "93c03698-0f0f-4524-fb37-293581c8c6f5",
        "colab": {
          "base_uri": "https://localhost:8080/",
          "height": 34
        }
      },
      "source": [
        "%cd drive/My\\ Drive/"
      ],
      "execution_count": 0,
      "outputs": [
        {
          "output_type": "stream",
          "text": [
            "/content/drive/My Drive\n"
          ],
          "name": "stdout"
        }
      ]
    },
    {
      "cell_type": "code",
      "metadata": {
        "id": "2-CuRzDLPG4E",
        "colab_type": "code",
        "colab": {}
      },
      "source": [
        "train_path = 'data/asl_alphabet_train'\n",
        "validation_path = 'data/asl_alphabet_validation'\n",
        "sam_path = 'data/asl_extra_val'"
      ],
      "execution_count": 0,
      "outputs": []
    },
    {
      "cell_type": "code",
      "metadata": {
        "id": "aCvjgRFCPJNu",
        "colab_type": "code",
        "colab": {}
      },
      "source": [
        "# image generator instance\n",
        "datagen = keras.preprocessing.image.ImageDataGenerator(\n",
        "                rescale=1./255,\n",
        "                # width_shift_range=[-30,30],\n",
        "                # height_shift_range=0.2,\n",
        "                # rotation_range=90,\n",
        "                # brightness_range=[0.2,.9],\n",
        "                # zoom_range=[0.5,1.0],\n",
        "                validation_split=0.3) \n",
        "valgen = keras.preprocessing.image.ImageDataGenerator(\n",
        "                rescale=1./255) \n",
        "samgen = keras.preprocessing.image.ImageDataGenerator(\n",
        "                rescale=1./255)"
      ],
      "execution_count": 0,
      "outputs": []
    },
    {
      "cell_type": "code",
      "metadata": {
        "id": "yLf5o6LpQeVW",
        "colab_type": "code",
        "outputId": "d5491bbc-9631-4992-8df3-137ed4327b6f",
        "colab": {
          "base_uri": "https://localhost:8080/",
          "height": 102
        }
      },
      "source": [
        "\n",
        "image_size = 128\n",
        "batch_size = 32\n",
        "\n",
        "print('done')\n",
        "train_generator = datagen.flow_from_directory(\n",
        "                train_path,  #directory for training images\n",
        "                target_size=(image_size, image_size),\n",
        "                batch_size=batch_size,\n",
        "                class_mode='categorical',\n",
        "                color_mode='grayscale',\n",
        "                shuffle=True,\n",
        "                subset='training')\n",
        "print('done')\n",
        "test_generator = datagen.flow_from_directory(\n",
        "                train_path,  # same directory for testing images\n",
        "                target_size=(image_size, image_size),\n",
        "                batch_size=batch_size,\n",
        "                class_mode='categorical',\n",
        "                color_mode='grayscale',\n",
        "                shuffle=True,\n",
        "                subset='validation')\n",
        "print('done')\n"
      ],
      "execution_count": 0,
      "outputs": [
        {
          "output_type": "stream",
          "text": [
            "done\n",
            "Found 60991 images belonging to 29 classes.\n",
            "done\n",
            "Found 26134 images belonging to 29 classes.\n",
            "done\n"
          ],
          "name": "stdout"
        }
      ]
    },
    {
      "cell_type": "code",
      "metadata": {
        "id": "vVlx1gjJQvc6",
        "colab_type": "code",
        "outputId": "07c13523-1b1d-4537-e7dc-1c66b7eb4e02",
        "colab": {
          "base_uri": "https://localhost:8080/",
          "height": 85
        }
      },
      "source": [
        "val_generator = valgen.flow_from_directory(\n",
        "                validation_path,  # directory for validation images\n",
        "                target_size=(image_size, image_size),\n",
        "                batch_size=batch_size,\n",
        "                class_mode='categorical',\n",
        "                color_mode='grayscale',\n",
        "                shuffle=False)\n",
        "print('done')\n",
        "sam_generator = samgen.flow_from_directory(\n",
        "                sam_path,  # directory for validation images\n",
        "                target_size=(image_size, image_size),\n",
        "                batch_size=batch_size,\n",
        "                class_mode='categorical',\n",
        "                color_mode='grayscale',\n",
        "                shuffle=False)\n",
        "print('done')"
      ],
      "execution_count": 0,
      "outputs": [
        {
          "output_type": "stream",
          "text": [
            "Found 30 images belonging to 29 classes.\n",
            "done\n",
            "Found 29 images belonging to 29 classes.\n",
            "done\n"
          ],
          "name": "stdout"
        }
      ]
    },
    {
      "cell_type": "code",
      "metadata": {
        "id": "f7kyEfrGQ0Nu",
        "colab_type": "code",
        "colab": {}
      },
      "source": [
        "nb_classes = 29\n",
        "\n",
        "# initialize CNN\n",
        "model4 = Sequential()\n",
        "\n",
        "# 1st conv layer\n",
        "model4.add(Conv2D(32,(3,3), padding='same', input_shape=(image_size, image_size,1)))\n",
        "model4.add(BatchNormalization())\n",
        "model4.add(Activation('relu'))\n",
        "model4.add(MaxPooling2D(pool_size=(2, 2)))\n",
        "model4.add(Dropout(0.25))\n",
        "\n",
        "# 2nd conv layer\n",
        "model4.add(Conv2D(64,(5,5), padding='same'))\n",
        "model4.add(BatchNormalization())\n",
        "model4.add(Activation('relu'))\n",
        "model4.add(MaxPooling2D(pool_size=(2, 2)))\n",
        "model4.add(Dropout(0.25))\n",
        "\n",
        "# 3rd conv layer\n",
        "model4.add(Conv2D(128,(3,3), padding='same'))\n",
        "model4.add(BatchNormalization())\n",
        "model4.add(Activation('relu'))\n",
        "model4.add(MaxPooling2D(pool_size=(2, 2)))\n",
        "model4.add(Dropout(0.25))\n",
        "\n",
        "# 4th conv layer\n",
        "model4.add(Conv2D(128,(3,3), padding='same'))\n",
        "model4.add(BatchNormalization())\n",
        "model4.add(Activation('relu'))\n",
        "model4.add(MaxPooling2D(pool_size=(2, 2)))\n",
        "model4.add(Dropout(0.25))\n",
        "\n",
        "# flattening\n",
        "model4.add(Flatten())\n",
        "\n",
        "# 1st fully connected layer\n",
        "model4.add(Dense(128))\n",
        "model4.add(BatchNormalization())\n",
        "model4.add(Activation('relu'))\n",
        "model4.add(Dropout(0.4))\n",
        "\n",
        "# 2nd fully connected layer\n",
        "model4.add(Dense(64))\n",
        "model4.add(BatchNormalization())\n",
        "model4.add(Activation('relu'))\n",
        "model4.add(Dropout(0.3))\n",
        "\n",
        "model4.add(Dense(nb_classes, activation='softmax'))\n",
        "\n"
      ],
      "execution_count": 0,
      "outputs": []
    },
    {
      "cell_type": "code",
      "metadata": {
        "id": "YiwjkPbGQ0QF",
        "colab_type": "code",
        "colab": {}
      },
      "source": [
        "optimizer = Adam(lr=0.01)\n",
        "model4.compile(optimizer=optimizer, loss='categorical_crossentropy', metrics=['accuracy'])"
      ],
      "execution_count": 0,
      "outputs": []
    },
    {
      "cell_type": "code",
      "metadata": {
        "id": "omRzc4VFQ0Sg",
        "colab_type": "code",
        "outputId": "5b762483-4fe1-48d3-cec2-0b74ea01a080",
        "colab": {
          "base_uri": "https://localhost:8080/",
          "height": 207
        }
      },
      "source": [
        "hisotry4 = model4.fit_generator(train_generator, validation_data=val_generator, epochs=5)"
      ],
      "execution_count": 0,
      "outputs": [
        {
          "output_type": "stream",
          "text": [
            "Epoch 1/5\n",
            "1906/1906 [==============================] - 27400s 14s/step - loss: 3.3128 - accuracy: 0.0622 - val_loss: 2.8539 - val_accuracy: 0.1000\n",
            "Epoch 2/5\n",
            "1906/1906 [==============================] - 3893s 2s/step - loss: 3.1931 - accuracy: 0.0887 - val_loss: 2.6284 - val_accuracy: 0.3333\n",
            "Epoch 3/5\n",
            "1906/1906 [==============================] - 3911s 2s/step - loss: 3.0826 - accuracy: 0.1192 - val_loss: 2.5361 - val_accuracy: 0.5000\n",
            "Epoch 4/5\n",
            "1906/1906 [==============================] - 3905s 2s/step - loss: 2.9593 - accuracy: 0.1456 - val_loss: 1.9812 - val_accuracy: 0.4667\n",
            "Epoch 5/5\n",
            "1906/1906 [==============================] - 3889s 2s/step - loss: 2.8262 - accuracy: 0.1740 - val_loss: 2.1465 - val_accuracy: 0.2667\n"
          ],
          "name": "stdout"
        }
      ]
    },
    {
      "cell_type": "code",
      "metadata": {
        "id": "U7qn3EtqWOkN",
        "colab_type": "code",
        "outputId": "0db78dd6-221a-4485-cf4e-0a3862a57c99",
        "colab": {
          "base_uri": "https://localhost:8080/",
          "height": 164
        }
      },
      "source": [
        "model4.evaluate_generator(sam_generator, verbose=1)"
      ],
      "execution_count": 0,
      "outputs": [
        {
          "output_type": "error",
          "ename": "NameError",
          "evalue": "ignored",
          "traceback": [
            "\u001b[0;31m---------------------------------------------------------------------------\u001b[0m",
            "\u001b[0;31mNameError\u001b[0m                                 Traceback (most recent call last)",
            "\u001b[0;32m<ipython-input-1-4117a8a4f3cd>\u001b[0m in \u001b[0;36m<module>\u001b[0;34m()\u001b[0m\n\u001b[0;32m----> 1\u001b[0;31m \u001b[0mmodel4\u001b[0m\u001b[0;34m.\u001b[0m\u001b[0mevaluate_generator\u001b[0m\u001b[0;34m(\u001b[0m\u001b[0msam_generator\u001b[0m\u001b[0;34m,\u001b[0m \u001b[0mverbose\u001b[0m\u001b[0;34m=\u001b[0m\u001b[0;36m1\u001b[0m\u001b[0;34m)\u001b[0m\u001b[0;34m\u001b[0m\u001b[0;34m\u001b[0m\u001b[0m\n\u001b[0m",
            "\u001b[0;31mNameError\u001b[0m: name 'model4' is not defined"
          ]
        }
      ]
    },
    {
      "cell_type": "code",
      "metadata": {
        "id": "L-o0eNhDQ0UY",
        "colab_type": "code",
        "colab": {}
      },
      "source": [
        "222/1906 [==>...........................] - ETA: 7:02:20 - loss: 3.4406 - accuracy: 0.0379"
      ],
      "execution_count": 0,
      "outputs": []
    }
  ]
}