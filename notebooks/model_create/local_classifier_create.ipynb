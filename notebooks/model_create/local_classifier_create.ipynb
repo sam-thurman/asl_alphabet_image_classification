{
 "cells": [
  {
   "cell_type": "markdown",
   "metadata": {
    "colab_type": "text",
    "id": "view-in-github"
   },
   "source": [
    "<a href=\"https://colab.research.google.com/github/sam-thurman/asl_alphabet_image_classification/blob/master/notebooks/model_create/classifier_create.ipynb\" target=\"_parent\"><img src=\"https://colab.research.google.com/assets/colab-badge.svg\" alt=\"Open In Colab\"/></a>"
   ]
  },
  {
   "cell_type": "markdown",
   "metadata": {
    "colab_type": "text",
    "id": "TKuEHUBjrVyY"
   },
   "source": [
    "Routine code for connecting (mounting) to Google Drive"
   ]
  },
  {
   "cell_type": "markdown",
   "metadata": {
    "colab_type": "text",
    "id": "YC6wPyu-ssHe"
   },
   "source": [
    "Import helper scripts"
   ]
  },
  {
   "cell_type": "code",
   "execution_count": 1,
   "metadata": {
    "colab": {
     "base_uri": "https://localhost:8080/",
     "height": 156
    },
    "colab_type": "code",
    "id": "oRmh0EJV931A",
    "outputId": "ffe2c0bb-fd7f-4ebf-891d-2f5b6216f85e"
   },
   "outputs": [
    {
     "name": "stderr",
     "output_type": "stream",
     "text": [
      "Using TensorFlow backend.\n",
      "/Users/sam/opt/anaconda3/envs/tensorflow2/lib/python3.7/site-packages/keras/engine/saving.py:384: UserWarning: Error in loading the saved optimizer state. As a result, your model is starting with a freshly initialized optimizer.\n",
      "  warnings.warn('Error in loading the saved optimizer '\n"
     ]
    }
   ],
   "source": [
    "# %cd drive/My\\ Drive/asl_alphabet_image_classification/\n",
    "%load_ext autoreload\n",
    "%autoreload 2\n",
    "import sys\n",
    "# sys.path.append(../../)\n",
    "from src.load_model import load_saved_model\n",
    "from keras.models import load_model\n",
    "from src.model_create import *"
   ]
  },
  {
   "cell_type": "markdown",
   "metadata": {
    "colab_type": "text",
    "id": "b9RAm93Ds_hX"
   },
   "source": [
    "Init train and validation generators"
   ]
  },
  {
   "cell_type": "code",
   "execution_count": 3,
   "metadata": {
    "colab": {
     "base_uri": "https://localhost:8080/",
     "height": 34
    },
    "colab_type": "code",
    "id": "wp6jt5foBwxV",
    "outputId": "16ef909f-527e-4f1b-8a44-68320acc53ff"
   },
   "outputs": [
    {
     "name": "stdout",
     "output_type": "stream",
     "text": [
      "Found 87001 images belonging to 29 classes.\n"
     ]
    }
   ],
   "source": [
    "train_generator = create_master_train_generator('../../data/asl_alphabet_train')"
   ]
  },
  {
   "cell_type": "code",
   "execution_count": 4,
   "metadata": {
    "colab": {
     "base_uri": "https://localhost:8080/",
     "height": 34
    },
    "colab_type": "code",
    "id": "FhHTcZM7_ms6",
    "outputId": "3f116f31-4864-4fee-ada7-b8b34c36c482"
   },
   "outputs": [
    {
     "name": "stdout",
     "output_type": "stream",
     "text": [
      "Found 30 images belonging to 29 classes.\n"
     ]
    }
   ],
   "source": [
    "val_generator = create_val_generator('../../data/asl_alphabet_validation')"
   ]
  },
  {
   "cell_type": "markdown",
   "metadata": {
    "colab_type": "text",
    "id": "CdWZHA0UtHDJ"
   },
   "source": [
    "Check edger output"
   ]
  },
  {
   "cell_type": "code",
   "execution_count": 5,
   "metadata": {
    "colab": {},
    "colab_type": "code",
    "id": "UHaBt-R3QjAt"
   },
   "outputs": [],
   "source": [
    "from keras.preprocessing.image import ImageDataGenerator, array_to_img, img_to_array, load_img\n",
    "import matplotlib.pyplot as plt"
   ]
  },
  {
   "cell_type": "code",
   "execution_count": 6,
   "metadata": {
    "colab": {
     "base_uri": "https://localhost:8080/",
     "height": 286
    },
    "colab_type": "code",
    "id": "YslSgK15_1Cc",
    "outputId": "298e18f7-c99f-4989-e9f6-623145f8e00c"
   },
   "outputs": [
    {
     "data": {
      "text/plain": [
       "<matplotlib.image.AxesImage at 0x1a577647d0>"
      ]
     },
     "execution_count": 6,
     "metadata": {},
     "output_type": "execute_result"
    },
    {
     "data": {
      "image/png": "[encoded data removed]",
      "text/plain": [
       "<Figure size 432x288 with 1 Axes>"
      ]
     },
     "metadata": {
      "needs_background": "light"
     },
     "output_type": "display_data"
    }
   ],
   "source": [
    "plt.imshow(array_to_img(val_generator[0][0][0]))\n",
    "# this should appear as a single fist-like shape in the middle of the frame, with 3 lines in the background\n",
    "    # if this is not what you see, make sure you are running this notebook in the \n",
    "    # recommended workflow (see project README)"
   ]
  },
  {
   "cell_type": "markdown",
   "metadata": {
    "colab_type": "text",
    "id": "ABl9vHL-tVWF"
   },
   "source": [
    "Just what the code says... compile, train and save the model"
   ]
  },
  {
   "cell_type": "code",
   "execution_count": null,
   "metadata": {
    "colab": {
     "base_uri": "https://localhost:8080/",
     "height": 1000
    },
    "colab_type": "code",
    "id": "VuXP318NQphV",
    "outputId": "86397337-080f-42b5-b3c8-6e49fa94e2d9"
   },
   "outputs": [
    {
     "name": "stdout",
     "output_type": "stream",
     "text": [
      "Model: \"sequential_2\"\n",
      "_________________________________________________________________\n",
      "Layer (type)                 Output Shape              Param #   \n",
      "=================================================================\n",
      "conv2d_2 (Conv2D)            (None, 200, 200, 128)     1280      \n",
      "_________________________________________________________________\n",
      "dropout_2 (Dropout)          (None, 200, 200, 128)     0         \n",
      "_________________________________________________________________\n",
      "flatten_2 (Flatten)          (None, 5120000)           0         \n",
      "_________________________________________________________________\n",
      "dense_2 (Dense)              (None, 29)                148480029 \n",
      "=================================================================\n",
      "Total params: 148,481,309\n",
      "Trainable params: 148,481,309\n",
      "Non-trainable params: 0\n",
      "_________________________________________________________________\n",
      "None\n",
      "Epoch 1/10\n",
      "  86/2719 [..............................] - ETA: 13:17:56 - loss: 758.0603 - accuracy: 3.6337e-04"
     ]
    }
   ],
   "source": [
    "compile_train_save_model(train_generator=train_generator, val_generator=val_generator, num_epochs=10, model_name='local_model1')"
   ]
  },
  {
   "cell_type": "code",
   "execution_count": null,
   "metadata": {
    "colab": {},
    "colab_type": "code",
    "id": "3L9podsOT2-t"
   },
   "outputs": [],
   "source": []
  }
 ],
 "metadata": {
  "accelerator": "GPU",
  "colab": {
   "authorship_tag": "ABX9TyME1FX+V/TWP7ANBVO99fuN",
   "collapsed_sections": [],
   "include_colab_link": true,
   "name": "classifier_create.ipynb",
   "provenance": []
  },
  "kernelspec": {
   "display_name": "Python [conda env:tensorflow2]",
   "language": "python",
   "name": "conda-env-tensorflow2-py"
  },
  "language_info": {
   "codemirror_mode": {
    "name": "ipython",
    "version": 3
   },
   "file_extension": ".py",
   "mimetype": "text/x-python",
   "name": "python",
   "nbconvert_exporter": "python",
   "pygments_lexer": "ipython3",
   "version": "3.7.7"
  }
 },
 "nbformat": 4,
 "nbformat_minor": 4
}
