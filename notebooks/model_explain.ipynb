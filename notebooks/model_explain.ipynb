{
 "cells": [
  {
   "cell_type": "markdown",
   "metadata": {
    "colab_type": "text",
    "id": "view-in-github"
   },
   "source": [
    "<a href=\"https://colab.research.google.com/github/sam-thurman/asl_alphabet_image_classification/blob/master/notebooks/model_explain.ipynb\" target=\"_parent\"><img src=\"https://colab.research.google.com/assets/colab-badge.svg\" alt=\"Open In Colab\"/></a>"
   ]
  },
  {
   "cell_type": "code",
   "execution_count": 10,
   "metadata": {
    "colab": {
     "base_uri": "https://localhost:8080/",
     "height": 105
    },
    "colab_type": "code",
    "id": "4aundiUouGjf",
    "outputId": "acfc27e8-71de-49f0-c664-517922b3dd02"
   },
   "outputs": [
    {
     "name": "stdout",
     "output_type": "stream",
     "text": [
      "Notebook running: keras  2.3.1\n"
     ]
    }
   ],
   "source": [
    "import numpy as np\n",
    "import keras\n",
    "from keras.applications.imagenet_utils import decode_predictions\n",
    "import skimage.io \n",
    "import skimage.segmentation\n",
    "import copy\n",
    "import sklearn\n",
    "import sklearn.metrics\n",
    "from sklearn.linear_model import LinearRegression\n",
    "import warnings\n",
    "\n",
    "import lime\n",
    "import lime.lime_image\n",
    "\n",
    "print('Notebook running: keras ', keras.__version__)\n",
    "import pandas as pd\n",
    "import numpy as np\n",
    "import scipy as math\n",
    "import matplotlib.pyplot as plt\n",
    "import seaborn as sns\n",
    "import pickle\n",
    "# from PIL import Image\n",
    "\n",
    "from sklearn.model_selection import train_test_split\n",
    "from skimage.transform import resize\n",
    "import keras\n",
    "\n",
    "from keras.preprocessing.image import ImageDataGenerator, array_to_img, img_to_array, load_img\n",
    "\n",
    "from keras.models import Model, Sequential\n",
    "from keras import layers\n",
    "from keras.layers import Dense, Input, Dropout, GlobalAveragePooling2D, Flatten, Conv2D, BatchNormalization, Activation, MaxPooling2D\n",
    "from keras import optimizers\n",
    "from keras.optimizers import Adam\n",
    "from keras.models import load_model\n",
    "\n",
    "import detect_edges\n",
    "import tensorflow as tf\n",
    "\n",
    "import sys\n",
    "import os\n",
    "\n",
    "from imageio import imread, imsave"
   ]
  },
  {
   "cell_type": "code",
   "execution_count": 2,
   "metadata": {
    "colab": {
     "base_uri": "https://localhost:8080/",
     "height": 139
    },
    "colab_type": "code",
    "id": "x6xlDPPoua0p",
    "outputId": "522207e5-c46f-46c8-a909-4efda9019539"
   },
   "outputs": [],
   "source": [
    "# from google.colab import drive\n",
    "# drive.mount('/content/drive')\n",
    "# %cd drive/My\\ Drive/"
   ]
  },
  {
   "cell_type": "code",
   "execution_count": 60,
   "metadata": {
    "colab": {},
    "colab_type": "code",
    "id": "gJNIQVnWulq7"
   },
   "outputs": [],
   "source": [
    "warnings.filterwarnings('ignore')\n",
    "\n",
    "model = load_model('../models/unet_inception.keras')\n",
    "unet = load_model('../models/edge_detect/unet2.keras')"
   ]
  },
  {
   "cell_type": "code",
   "execution_count": 3,
   "metadata": {
    "colab": {
     "base_uri": "https://localhost:8080/",
     "height": 51
    },
    "colab_type": "code",
    "id": "QcdldMzdzzZ-",
    "outputId": "27dc1fb3-1427-40bf-93fe-98ecd0f3f2d0"
   },
   "outputs": [
    {
     "name": "stdout",
     "output_type": "stream",
     "text": [
      "Found 30 images belonging to 29 classes.\n"
     ]
    }
   ],
   "source": [
    "train_path = '../data/asl_alphabet_train'\n",
    "validation_path = '../data/asl_alphabet_validation'\n",
    "sam_path = '../data/asl_extra_val'\n",
    "image_size = 200\n",
    "batch_size = 32\n",
    "valgen = keras.preprocessing.image.ImageDataGenerator(preprocessing_function=detect_edges.predict_custom_image,\n",
    "                                                      rescale=1./255) \n",
    "val_generator = valgen.flow_from_directory(\n",
    "                validation_path,  # directory for validation images\n",
    "                target_size=(image_size, image_size),\n",
    "                batch_size=batch_size,\n",
    "                class_mode='categorical',\n",
    "                color_mode='rgb',\n",
    "                shuffle=False)\n",
    "\n",
    "# samgen = keras.preprocessing.image.ImageDataGenerator(rescale=1./255, preprocessing_function=(lambda x: tf.image.central_crop(x, central_fraction=1)))\n",
    "# sam_generator = samgen.flow_from_directory(\n",
    "#                 sam_path,  # directory for me-made validation images\n",
    "#                 target_size=(image_size, image_size),\n",
    "#                 batch_size=batch_size,\n",
    "#                 class_mode='categorical',\n",
    "#                 color_mode='rgb',\n",
    "#                 shuffle=False)"
   ]
  },
  {
   "cell_type": "code",
   "execution_count": 65,
   "metadata": {
    "colab": {
     "base_uri": "https://localhost:8080/",
     "height": 314
    },
    "colab_type": "code",
    "id": "lmL-hyc6vGGC",
    "outputId": "6bb9cbee-4b4a-4e97-b294-dcd19d9f54ca"
   },
   "outputs": [
    {
     "name": "stdout",
     "output_type": "stream",
     "text": [
      "(256, 256)\n"
     ]
    },
    {
     "data": {
      "text/plain": [
       "(1, 200, 200, 3)"
      ]
     },
     "execution_count": 65,
     "metadata": {},
     "output_type": "execute_result"
    }
   ],
   "source": [
    "data_path = '../data/asl_alphabet_validation/'\n",
    "Xi = skimage.io.imread(os.path.join(data_path, 'F/F_test.jpg'))\n",
    "from skimage.color import rgb2gray\n",
    "Xi = detect_edges.predict_custom_image(Xi)\n",
    "Xi = detect_edges.to_rgb1(Xi)\n",
    "Xi = resize(Xi,(1,200,200,3))\n",
    "Xi.shape\n",
    "\n",
    "# '''FOR GRAY'''\n",
    "# data_path = '../data/asl_alphabet_validation/'\n",
    "# Xi = skimage.io.imread(os.path.join(data_path, 'D/D_test.jpg'))\n",
    "# from skimage.color import rgb2gray\n",
    "# Xi = detect_edges.predict_custom_image(Xi)\n",
    "# # Xi = detect_edges.to_rgb1(Xi)\n",
    "# Xi = resize(Xi,(1,128,128,1))\n",
    "# Xi.shape"
   ]
  },
  {
   "cell_type": "code",
   "execution_count": 66,
   "metadata": {
    "colab": {
     "base_uri": "https://localhost:8080/",
     "height": 327
    },
    "colab_type": "code",
    "id": "dAs0hKFP4t-2",
    "outputId": "4c44574b-8ed6-44e0-9576-59132ae4b744"
   },
   "outputs": [
    {
     "data": {
      "text/plain": [
       "11"
      ]
     },
     "execution_count": 66,
     "metadata": {},
     "output_type": "execute_result"
    }
   ],
   "source": [
    "np.argmax(model.predict(Xi))"
   ]
  },
  {
   "cell_type": "code",
   "execution_count": 67,
   "metadata": {
    "colab": {},
    "colab_type": "code",
    "id": "DvQSBesLztHk"
   },
   "outputs": [],
   "source": [
    "explainer = lime.lime_image.LimeImageExplainer()"
   ]
  },
  {
   "cell_type": "code",
   "execution_count": 79,
   "metadata": {
    "colab": {
     "base_uri": "https://localhost:8080/",
     "height": 410,
     "referenced_widgets": [
      "0e78e69d66fa4672b23452d39832b1fe",
      "aaec9de932b04b3684267cb31f2c1d40",
      "57a9e16613674856acbaa3b100a4e37b",
      "ed647436a4fe4597a023ec6edf577579",
      "0a29c025498f48598004c59f6d7865b4",
      "e4397e261343487d8e0faaf119174df1",
      "553bb98675834b6383c27ea9ac15acb0",
      "14a4ce34861b4dfba29378a8e4bb8765"
     ]
    },
    "colab_type": "code",
    "id": "30Irt8fhzbMt",
    "outputId": "b5fb8d5d-6ec1-41b7-8ade-eb7c811ce1bf"
   },
   "outputs": [
    {
     "name": "stdout",
     "output_type": "stream",
     "text": [
      "(256, 256)\n"
     ]
    },
    {
     "data": {
      "text/plain": [
       "array([0.14847514, 0.12329506, 0.25937355, 0.12181437, 0.08140004,\n",
       "       0.08335752, 0.0948503 , 0.10445231, 0.10922245, 0.11203209,\n",
       "       0.12417781, 0.15367039, 0.17079793, 0.17767128, 0.1878564 ,\n",
       "       0.16690311, 0.1469742 , 0.12781681, 0.11688189, 0.09432915,\n",
       "       0.08988279, 0.10134126, 0.11232634, 0.10807307, 0.10599592,\n",
       "       0.08747044, 0.06675205, 0.06160141, 0.06240786, 0.0646995 ,\n",
       "       0.06737696, 0.06925454, 0.07250921, 0.08232663, 0.10095721,\n",
       "       0.12011477, 0.11877261, 0.12205248, 0.12938774, 0.14214213,\n",
       "       0.14839143, 0.15013325, 0.14820527, 0.11139435, 0.06745415,\n",
       "       0.03901458, 0.02408591, 0.020705  , 0.01892101, 0.01570581,\n",
       "       0.01513816, 0.01993279, 0.02827117, 0.04252155, 0.0689375 ,\n",
       "       0.1019258 , 0.12299035, 0.12833343, 0.11364478, 0.11258033,\n",
       "       0.12450343, 0.10853482, 0.08425923, 0.07130408, 0.06217976,\n",
       "       0.06139514, 0.07823592, 0.08315729, 0.08541545, 0.08460101,\n",
       "       0.07922047, 0.05504258, 0.04249369, 0.04001171, 0.0393341 ,\n",
       "       0.03956918, 0.03951646, 0.04072345, 0.04298824, 0.04484157,\n",
       "       0.04497681, 0.0443977 , 0.0430645 , 0.04041769, 0.03973917,\n",
       "       0.03997757, 0.04222542, 0.04396134, 0.04555942, 0.04553301,\n",
       "       0.04448975, 0.0435066 , 0.0435821 , 0.04292113, 0.04268523,\n",
       "       0.04267307, 0.03917104, 0.03704814, 0.03851073, 0.0392399 ,\n",
       "       0.03836549, 0.03798246, 0.03812007, 0.03815488, 0.03592668,\n",
       "       0.03524909, 0.03540368, 0.03493662, 0.03619326, 0.03701019,\n",
       "       0.0343349 , 0.03395361, 0.03701331, 0.03652713, 0.03626642,\n",
       "       0.04121849, 0.0437766 , 0.0418372 , 0.04158333, 0.04812658,\n",
       "       0.05215028, 0.05403785, 0.05786718, 0.05253026, 0.04878564,\n",
       "       0.04829692, 0.04646121, 0.045259  , 0.04706094, 0.05086982,\n",
       "       0.05612301, 0.06007522, 0.06139854, 0.06436396, 0.07328867,\n",
       "       0.07927957, 0.0898845 , 0.09482832, 0.09456918, 0.08935148,\n",
       "       0.07909184, 0.07021648, 0.05906509, 0.04453139, 0.03335471,\n",
       "       0.02757211, 0.02555484, 0.02101468, 0.01783164, 0.01524495,\n",
       "       0.01590322, 0.01619855, 0.01629822, 0.01915325, 0.01775254,\n",
       "       0.01377468, 0.01060386, 0.00766658, 0.00457013, 0.00279051,\n",
       "       0.00186699, 0.00268618, 0.00431419, 0.00735618, 0.01186285,\n",
       "       0.01696693, 0.02025358, 0.02274956, 0.02463492, 0.02706595,\n",
       "       0.0311415 , 0.0323889 , 0.0312744 , 0.0297551 , 0.02803404,\n",
       "       0.0234076 , 0.01729133, 0.01387246, 0.01399589, 0.01177617,\n",
       "       0.00844852, 0.00570128, 0.00239517, 0.00147675, 0.00197386,\n",
       "       0.00329951, 0.00486427, 0.00788181, 0.00747161, 0.00662523,\n",
       "       0.01046673, 0.02182807, 0.03374768, 0.04098818, 0.04450567,\n",
       "       0.05250357, 0.08516525, 0.13228823, 0.09479222, 0.04978741],\n",
       "      dtype=float32)"
      ]
     },
     "execution_count": 79,
     "metadata": {},
     "output_type": "execute_result"
    },
    {
     "data": {
      "image/png": "[encoded data removed]",
      "text/plain": [
       "<Figure size 432x288 with 1 Axes>"
      ]
     },
     "metadata": {
      "needs_background": "light"
     },
     "output_type": "display_data"
    }
   ],
   "source": [
    "data_path = '../data/asl_alphabet_validation/'\n",
    "Xi = skimage.io.imread(os.path.join(data_path, 'C/C_test.jpg'))\n",
    "Xi = detect_edges.predict_custom_image(Xi)\n",
    "Xi = resize(Xi,(200,200))\n",
    "# Xi = detect_edges.to_rgb1(Xi)\n",
    "plt.imshow(Xi)\n",
    "Xi[0]"
   ]
  },
  {
   "cell_type": "code",
   "execution_count": 72,
   "metadata": {
    "colab": {
     "base_uri": "https://localhost:8080/",
     "height": 410,
     "referenced_widgets": [
      "0e78e69d66fa4672b23452d39832b1fe",
      "aaec9de932b04b3684267cb31f2c1d40",
      "57a9e16613674856acbaa3b100a4e37b",
      "ed647436a4fe4597a023ec6edf577579",
      "0a29c025498f48598004c59f6d7865b4",
      "e4397e261343487d8e0faaf119174df1",
      "553bb98675834b6383c27ea9ac15acb0",
      "14a4ce34861b4dfba29378a8e4bb8765"
     ]
    },
    "colab_type": "code",
    "id": "30Irt8fhzbMt",
    "outputId": "b5fb8d5d-6ec1-41b7-8ade-eb7c811ce1bf"
   },
   "outputs": [
    {
     "name": "stdout",
     "output_type": "stream",
     "text": [
      "(200, 200)\n"
     ]
    },
    {
     "name": "stderr",
     "output_type": "stream",
     "text": [
      "100%|██████████| 1000/1000 [01:17<00:00, 12.96it/s]\n"
     ]
    }
   ],
   "source": [
    "print(Xi.shape)\n",
    "def predict_rgb(image):  \n",
    "    print(image.shape)\n",
    "    image = detect_edges.predict_custom_image(image)\n",
    "    image = detect_edges.to_rgb1(image)\n",
    "    image = resize(Xi,(1,200,200,3))\n",
    "    plt.imshow(image)\n",
    "    return model.predict(image)\n",
    "def predict_gray(image):  \n",
    "    \n",
    "    image = detect_edges.predict_custom_image(image)\n",
    "    image = detect_edges.to_rgb1(image)\n",
    "    image = resize(Xi,(1,128,128,1))\n",
    "    return model.predict(image)\n",
    "explanation = explainer.explain_instance(Xi, model.predict)"
   ]
  },
  {
   "cell_type": "code",
   "execution_count": 74,
   "metadata": {
    "colab": {},
    "colab_type": "code",
    "id": "LaUyN6TnzbeY"
   },
   "outputs": [
    {
     "data": {
      "text/plain": [
       "<matplotlib.image.AxesImage at 0x1a5ddd64a8>"
      ]
     },
     "execution_count": 74,
     "metadata": {},
     "output_type": "execute_result"
    },
    {
     "data": {
      "image/png": "[encoded data removed]",
      "text/plain": [
       "<Figure size 432x288 with 1 Axes>"
      ]
     },
     "metadata": {
      "needs_background": "light"
     },
     "output_type": "display_data"
    }
   ],
   "source": [
    "from skimage.segmentation import mark_boundaries\n",
    "\n",
    "temp, mask = explanation.get_image_and_mask(explanation.top_labels[0], positive_only=True, num_features=5, hide_rest=True)\n",
    "plt.imshow(mark_boundaries(temp / 2 + 0.5, mask))"
   ]
  },
  {
   "cell_type": "code",
   "execution_count": null,
   "metadata": {},
   "outputs": [],
   "source": []
  }
 ],
 "metadata": {
  "colab": {
   "authorship_tag": "ABX9TyMl/nokTBbvI5h4AwP8bPhS",
   "collapsed_sections": [],
   "include_colab_link": true,
   "name": "model_explain.ipynb",
   "provenance": []
  },
  "kernelspec": {
   "display_name": "Python 3.6.9 64-bit ('learn-env': conda)",
   "language": "python",
   "name": "python36964bitlearnenvcondae7e6328cec2744cc9785efcdf88db667"
  },
  "language_info": {
   "codemirror_mode": {
    "name": "ipython",
    "version": 3
   },
   "file_extension": ".py",
   "mimetype": "text/x-python",
   "name": "python",
   "nbconvert_exporter": "python",
   "pygments_lexer": "ipython3",
   "version": "3.6.9"
  },
  "widgets": {
   "application/vnd.jupyter.widget-state+json": {
    "0a29c025498f48598004c59f6d7865b4": {
     "model_module": "@jupyter-widgets/controls",
     "model_name": "ProgressStyleModel",
     "state": {
      "_model_module": "@jupyter-widgets/controls",
      "_model_module_version": "1.5.0",
      "_model_name": "ProgressStyleModel",
      "_view_count": null,
      "_view_module": "@jupyter-widgets/base",
      "_view_module_version": "1.2.0",
      "_view_name": "StyleView",
      "bar_color": null,
      "description_width": "initial"
     }
    },
    "0e78e69d66fa4672b23452d39832b1fe": {
     "model_module": "@jupyter-widgets/controls",
     "model_name": "HBoxModel",
     "state": {
      "_dom_classes": [],
      "_model_module": "@jupyter-widgets/controls",
      "_model_module_version": "1.5.0",
      "_model_name": "HBoxModel",
      "_view_count": null,
      "_view_module": "@jupyter-widgets/controls",
      "_view_module_version": "1.5.0",
      "_view_name": "HBoxView",
      "box_style": "",
      "children": [
       "IPY_MODEL_57a9e16613674856acbaa3b100a4e37b",
       "IPY_MODEL_ed647436a4fe4597a023ec6edf577579"
      ],
      "layout": "IPY_MODEL_aaec9de932b04b3684267cb31f2c1d40"
     }
    },
    "14a4ce34861b4dfba29378a8e4bb8765": {
     "model_module": "@jupyter-widgets/base",
     "model_name": "LayoutModel",
     "state": {
      "_model_module": "@jupyter-widgets/base",
      "_model_module_version": "1.2.0",
      "_model_name": "LayoutModel",
      "_view_count": null,
      "_view_module": "@jupyter-widgets/base",
      "_view_module_version": "1.2.0",
      "_view_name": "LayoutView",
      "align_content": null,
      "align_items": null,
      "align_self": null,
      "border": null,
      "bottom": null,
      "display": null,
      "flex": null,
      "flex_flow": null,
      "grid_area": null,
      "grid_auto_columns": null,
      "grid_auto_flow": null,
      "grid_auto_rows": null,
      "grid_column": null,
      "grid_gap": null,
      "grid_row": null,
      "grid_template_areas": null,
      "grid_template_columns": null,
      "grid_template_rows": null,
      "height": null,
      "justify_content": null,
      "justify_items": null,
      "left": null,
      "margin": null,
      "max_height": null,
      "max_width": null,
      "min_height": null,
      "min_width": null,
      "object_fit": null,
      "object_position": null,
      "order": null,
      "overflow": null,
      "overflow_x": null,
      "overflow_y": null,
      "padding": null,
      "right": null,
      "top": null,
      "visibility": null,
      "width": null
     }
    },
    "553bb98675834b6383c27ea9ac15acb0": {
     "model_module": "@jupyter-widgets/controls",
     "model_name": "DescriptionStyleModel",
     "state": {
      "_model_module": "@jupyter-widgets/controls",
      "_model_module_version": "1.5.0",
      "_model_name": "DescriptionStyleModel",
      "_view_count": null,
      "_view_module": "@jupyter-widgets/base",
      "_view_module_version": "1.2.0",
      "_view_name": "StyleView",
      "description_width": ""
     }
    },
    "57a9e16613674856acbaa3b100a4e37b": {
     "model_module": "@jupyter-widgets/controls",
     "model_name": "IntProgressModel",
     "state": {
      "_dom_classes": [],
      "_model_module": "@jupyter-widgets/controls",
      "_model_module_version": "1.5.0",
      "_model_name": "IntProgressModel",
      "_view_count": null,
      "_view_module": "@jupyter-widgets/controls",
      "_view_module_version": "1.5.0",
      "_view_name": "ProgressView",
      "bar_style": "danger",
      "description": "  0%",
      "description_tooltip": null,
      "layout": "IPY_MODEL_e4397e261343487d8e0faaf119174df1",
      "max": 1000,
      "min": 0,
      "orientation": "horizontal",
      "style": "IPY_MODEL_0a29c025498f48598004c59f6d7865b4",
      "value": 0
     }
    },
    "aaec9de932b04b3684267cb31f2c1d40": {
     "model_module": "@jupyter-widgets/base",
     "model_name": "LayoutModel",
     "state": {
      "_model_module": "@jupyter-widgets/base",
      "_model_module_version": "1.2.0",
      "_model_name": "LayoutModel",
      "_view_count": null,
      "_view_module": "@jupyter-widgets/base",
      "_view_module_version": "1.2.0",
      "_view_name": "LayoutView",
      "align_content": null,
      "align_items": null,
      "align_self": null,
      "border": null,
      "bottom": null,
      "display": null,
      "flex": null,
      "flex_flow": null,
      "grid_area": null,
      "grid_auto_columns": null,
      "grid_auto_flow": null,
      "grid_auto_rows": null,
      "grid_column": null,
      "grid_gap": null,
      "grid_row": null,
      "grid_template_areas": null,
      "grid_template_columns": null,
      "grid_template_rows": null,
      "height": null,
      "justify_content": null,
      "justify_items": null,
      "left": null,
      "margin": null,
      "max_height": null,
      "max_width": null,
      "min_height": null,
      "min_width": null,
      "object_fit": null,
      "object_position": null,
      "order": null,
      "overflow": null,
      "overflow_x": null,
      "overflow_y": null,
      "padding": null,
      "right": null,
      "top": null,
      "visibility": null,
      "width": null
     }
    },
    "e4397e261343487d8e0faaf119174df1": {
     "model_module": "@jupyter-widgets/base",
     "model_name": "LayoutModel",
     "state": {
      "_model_module": "@jupyter-widgets/base",
      "_model_module_version": "1.2.0",
      "_model_name": "LayoutModel",
      "_view_count": null,
      "_view_module": "@jupyter-widgets/base",
      "_view_module_version": "1.2.0",
      "_view_name": "LayoutView",
      "align_content": null,
      "align_items": null,
      "align_self": null,
      "border": null,
      "bottom": null,
      "display": null,
      "flex": null,
      "flex_flow": null,
      "grid_area": null,
      "grid_auto_columns": null,
      "grid_auto_flow": null,
      "grid_auto_rows": null,
      "grid_column": null,
      "grid_gap": null,
      "grid_row": null,
      "grid_template_areas": null,
      "grid_template_columns": null,
      "grid_template_rows": null,
      "height": null,
      "justify_content": null,
      "justify_items": null,
      "left": null,
      "margin": null,
      "max_height": null,
      "max_width": null,
      "min_height": null,
      "min_width": null,
      "object_fit": null,
      "object_position": null,
      "order": null,
      "overflow": null,
      "overflow_x": null,
      "overflow_y": null,
      "padding": null,
      "right": null,
      "top": null,
      "visibility": null,
      "width": null
     }
    },
    "ed647436a4fe4597a023ec6edf577579": {
     "model_module": "@jupyter-widgets/controls",
     "model_name": "HTMLModel",
     "state": {
      "_dom_classes": [],
      "_model_module": "@jupyter-widgets/controls",
      "_model_module_version": "1.5.0",
      "_model_name": "HTMLModel",
      "_view_count": null,
      "_view_module": "@jupyter-widgets/controls",
      "_view_module_version": "1.5.0",
      "_view_name": "HTMLView",
      "description": "",
      "description_tooltip": null,
      "layout": "IPY_MODEL_14a4ce34861b4dfba29378a8e4bb8765",
      "placeholder": "​",
      "style": "IPY_MODEL_553bb98675834b6383c27ea9ac15acb0",
      "value": " 0/1000 [00:00&lt;?, ?it/s]"
     }
    }
   }
  }
 },
 "nbformat": 4,
 "nbformat_minor": 4
}
