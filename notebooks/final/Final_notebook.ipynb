{
  "nbformat": 4,
  "nbformat_minor": 0,
  "metadata": {
    "kernelspec": {
      "display_name": "Python 3.6.9 64-bit ('learn-env': conda)",
      "language": "python",
      "name": "python36964bitlearnenvcondae7e6328cec2744cc9785efcdf88db667"
    },
    "language_info": {
      "codemirror_mode": {
        "name": "ipython",
        "version": 3
      },
      "file_extension": ".py",
      "mimetype": "text/x-python",
      "name": "python",
      "nbconvert_exporter": "python",
      "pygments_lexer": "ipython3",
      "version": "3.6.9"
    },
    "colab": {
      "name": "Final_notebook.ipynb",
      "provenance": [],
      "collapsed_sections": [],
      "include_colab_link": true
    },
    "accelerator": "GPU"
  },
  "cells": [
    {
      "cell_type": "markdown",
      "metadata": {
        "id": "view-in-github",
        "colab_type": "text"
      },
      "source": [
        "<a href=\"https://colab.research.google.com/github/sam-thurman/asl_alphabet_image_classification/blob/master/notebooks/final/Final_notebook.ipynb\" target=\"_parent\"><img src=\"https://colab.research.google.com/assets/colab-badge.svg\" alt=\"Open In Colab\"/></a>"
      ]
    },
    {
      "cell_type": "markdown",
      "metadata": {
        "id": "5DK9HjDpdmH0",
        "colab_type": "text"
      },
      "source": [
        "#### Mount to Google Drive and import required libraries"
      ]
    },
    {
      "cell_type": "code",
      "metadata": {
        "id": "OXqozMT1eD7j",
        "colab_type": "code",
        "outputId": "0ac10c33-077a-4fa8-9d66-d2053c6805f4",
        "colab": {
          "base_uri": "https://localhost:8080/",
          "height": 122
        }
      },
      "source": [
        "from google.colab import drive\n",
        "# directory for drive to serve files from\n",
        "drive.mount('/content/drive')\n",
        "# verify it's you"
      ],
      "execution_count": 1,
      "outputs": [
        {
          "output_type": "stream",
          "text": [
            "Go to this URL in a browser: https://accounts.google.com/o/oauth2/auth?client_id=947318989803-6bn6qk8qdgf4n4g3pfee6491hc0brc4i.apps.googleusercontent.com&redirect_uri=urn%3aietf%3awg%3aoauth%3a2.0%3aoob&response_type=code&scope=email%20https%3a%2f%2fwww.googleapis.com%2fauth%2fdocs.test%20https%3a%2f%2fwww.googleapis.com%2fauth%2fdrive%20https%3a%2f%2fwww.googleapis.com%2fauth%2fdrive.photos.readonly%20https%3a%2f%2fwww.googleapis.com%2fauth%2fpeopleapi.readonly\n",
            "\n",
            "Enter your authorization code:\n",
            "··········\n",
            "Mounted at /content/drive\n"
          ],
          "name": "stdout"
        }
      ]
    },
    {
      "cell_type": "markdown",
      "metadata": {
        "id": "9Nr0T94b3wQu",
        "colab_type": "text"
      },
      "source": [
        "Append the Google Drive repository-specific path to the system path: should be the path to the root of the repository containing this notebook"
      ]
    },
    {
      "cell_type": "code",
      "metadata": {
        "id": "CJDkWlrOeMCb",
        "colab_type": "code",
        "colab": {}
      },
      "source": [
        "import matplotlib.pyplot as plt\n",
        "import tensorflow as tf\n",
        "import sys\n",
        "import os\n",
        "\n",
        "# don't print annoying INFO and WARNING messages\n",
        "os.environ['TF_CPP_MIN_LOG_LEVEL'] = '2'\n",
        "\n",
        "sys.path.append('/content/drive/My\\ Drive/asl_alphabet_image_classification/')"
      ],
      "execution_count": 0,
      "outputs": []
    },
    {
      "cell_type": "code",
      "metadata": {
        "id": "APCrFFu7eMFQ",
        "colab_type": "code",
        "outputId": "fda016c4-8fcd-4213-91fb-9db22515ecd1",
        "colab": {
          "base_uri": "https://localhost:8080/",
          "height": 105
        }
      },
      "source": [
        "# change directory to notebook source code location\n",
        "%cd drive/My\\ Drive/asl_alphabet_image_classification/notebooks/src\n",
        "from notebook_helpers import *"
      ],
      "execution_count": 4,
      "outputs": [
        {
          "output_type": "stream",
          "text": [
            "/content/drive/My Drive/asl_alphabet_image_classification/notebooks/src\n"
          ],
          "name": "stdout"
        },
        {
          "output_type": "stream",
          "text": [
            "Using TensorFlow backend.\n",
            "/usr/local/lib/python3.6/dist-packages/keras/engine/saving.py:384: UserWarning: Error in loading the saved optimizer state. As a result, your model is starting with a freshly initialized optimizer.\n",
            "  warnings.warn('Error in loading the saved optimizer '\n"
          ],
          "name": "stderr"
        }
      ]
    },
    {
      "cell_type": "markdown",
      "metadata": {
        "id": "zac1TZX9dmH5",
        "colab_type": "text"
      },
      "source": [
        "#### Load in validation data"
      ]
    },
    {
      "cell_type": "markdown",
      "metadata": {
        "id": "9TfK1Bme376J",
        "colab_type": "text"
      },
      "source": [
        "Path to validation data used for Keras ImageDataGenerator: check this is correct, should be fine as long as you followed repo set up instructions"
      ]
    },
    {
      "cell_type": "code",
      "metadata": {
        "id": "yPO9ReicdmH6",
        "colab_type": "code",
        "outputId": "9489f5b5-3262-4df4-ba58-ec5208752288",
        "colab": {
          "base_uri": "https://localhost:8080/",
          "height": 34
        }
      },
      "source": [
        "validation_generator = load_val_generator('../../../data/asl_alphabet_validation')"
      ],
      "execution_count": 5,
      "outputs": [
        {
          "output_type": "stream",
          "text": [
            "Found 30 images belonging to 29 classes.\n"
          ],
          "name": "stdout"
        }
      ]
    },
    {
      "cell_type": "markdown",
      "metadata": {
        "id": "zCfHdBh_dmID",
        "colab_type": "text"
      },
      "source": [
        "#### Edge detection quick look"
      ]
    },
    {
      "cell_type": "markdown",
      "metadata": {
        "id": "3YgTDnTf4rcT",
        "colab_type": "text"
      },
      "source": [
        "this is the image shown to the classifier after all the preprocessing is done"
      ]
    },
    {
      "cell_type": "code",
      "metadata": {
        "id": "eAWYXL6vdmH9",
        "colab_type": "code",
        "outputId": "b1beb895-e3ee-481e-d523-7d331fb17aba",
        "colab": {
          "base_uri": "https://localhost:8080/",
          "height": 286
        }
      },
      "source": [
        "plt.imshow(array_to_img(validation_generator[0][0][0]))"
      ],
      "execution_count": 6,
      "outputs": [
        {
          "output_type": "execute_result",
          "data": {
            "text/plain": [
              "<matplotlib.image.AxesImage at 0x7f08c6063c88>"
            ]
          },
          "metadata": {
            "tags": []
          },
          "execution_count": 6
        },
        {
          "output_type": "display_data",
          "data": {
            "image/png": "[encoded data removed]",
            "text/plain": [
              "<Figure size 432x288 with 1 Axes>"
            ]
          },
          "metadata": {
            "tags": [],
            "needs_background": "light"
          }
        }
      ]
    },
    {
      "cell_type": "markdown",
      "metadata": {
        "id": "EZAYZzTDdmIO",
        "colab_type": "text"
      },
      "source": [
        "#### Load in our classifier model"
      ]
    },
    {
      "cell_type": "markdown",
      "metadata": {
        "id": "UzArcnDm4wj0",
        "colab_type": "text"
      },
      "source": [
        "Path to classifier model: check this is correct, should be fine as long as you followed repo set up instructions"
      ]
    },
    {
      "cell_type": "code",
      "metadata": {
        "id": "0jpwf6sbdmIO",
        "colab_type": "code",
        "outputId": "62c533b8-2185-4f7d-9812-ebd1ea5a87ab",
        "colab": {
          "base_uri": "https://localhost:8080/",
          "height": 323
        }
      },
      "source": [
        "classifier = load_saved_model('../../models/model19.keras')"
      ],
      "execution_count": 7,
      "outputs": [
        {
          "output_type": "stream",
          "text": [
            "running\n",
            "Model: \"sequential_4\"\n",
            "_________________________________________________________________\n",
            "Layer (type)                 Output Shape              Param #   \n",
            "=================================================================\n",
            "conv2d_4 (Conv2D)            (None, 200, 200, 128)     1280      \n",
            "_________________________________________________________________\n",
            "dropout_4 (Dropout)          (None, 200, 200, 128)     0         \n",
            "_________________________________________________________________\n",
            "flatten_4 (Flatten)          (None, 5120000)           0         \n",
            "_________________________________________________________________\n",
            "dense_3 (Dense)              (None, 29)                148480029 \n",
            "=================================================================\n",
            "Total params: 148,481,309\n",
            "Trainable params: 148,481,309\n",
            "Non-trainable params: 0\n",
            "_________________________________________________________________\n",
            "None\n"
          ],
          "name": "stdout"
        }
      ]
    },
    {
      "cell_type": "markdown",
      "metadata": {
        "id": "hgYGQXngzqal",
        "colab_type": "text"
      },
      "source": [
        "#### Evaluate"
      ]
    },
    {
      "cell_type": "markdown",
      "metadata": {
        "id": "UMEMwdUj48CZ",
        "colab_type": "text"
      },
      "source": [
        " Evaluate our model on our validation generator and print the accuracy and loss"
      ]
    },
    {
      "cell_type": "code",
      "metadata": {
        "id": "CjxnSSx8hdaT",
        "colab_type": "code",
        "outputId": "ae6564b9-784f-45d3-a8e9-d6f5211d37d3",
        "colab": {
          "base_uri": "https://localhost:8080/",
          "height": 51
        }
      },
      "source": [
        "evaluation = evaluate_model_on_gen(classifier, validation_generator)"
      ],
      "execution_count": 8,
      "outputs": [
        {
          "output_type": "stream",
          "text": [
            "Accuracy on 30 samples in given generator:  0.9333333373069763\n",
            "Loss on 30 samples in given generator:  73.62454223632812\n"
          ],
          "name": "stdout"
        }
      ]
    },
    {
      "cell_type": "markdown",
      "metadata": {
        "id": "sKK5vqn7zxy8",
        "colab_type": "text"
      },
      "source": [
        "Get a results table with the actual and predicted image labels"
      ]
    },
    {
      "cell_type": "code",
      "metadata": {
        "id": "l4J4ICnMdmId",
        "colab_type": "code",
        "colab": {
          "base_uri": "https://localhost:8080/",
          "height": 1000
        },
        "outputId": "f412b37f-5bb8-47cf-e6c4-325828c8d271"
      },
      "source": [
        "results = predict_on_gen_and_report(classifier, validation_generator)\n",
        "results"
      ],
      "execution_count": 9,
      "outputs": [
        {
          "output_type": "execute_result",
          "data": {
            "text/html": [
              "<div>\n",
              "<style scoped>\n",
              "    .dataframe tbody tr th:only-of-type {\n",
              "        vertical-align: middle;\n",
              "    }\n",
              "\n",
              "    .dataframe tbody tr th {\n",
              "        vertical-align: top;\n",
              "    }\n",
              "\n",
              "    .dataframe thead th {\n",
              "        text-align: right;\n",
              "    }\n",
              "</style>\n",
              "<table border=\"1\" class=\"dataframe\">\n",
              "  <thead>\n",
              "    <tr style=\"text-align: right;\">\n",
              "      <th></th>\n",
              "      <th>True Labels</th>\n",
              "      <th>Predicted Labels</th>\n",
              "    </tr>\n",
              "    <tr>\n",
              "      <th>Sample Number</th>\n",
              "      <th></th>\n",
              "      <th></th>\n",
              "    </tr>\n",
              "  </thead>\n",
              "  <tbody>\n",
              "    <tr>\n",
              "      <th>0</th>\n",
              "      <td>A</td>\n",
              "      <td>A</td>\n",
              "    </tr>\n",
              "    <tr>\n",
              "      <th>1</th>\n",
              "      <td>B</td>\n",
              "      <td>B</td>\n",
              "    </tr>\n",
              "    <tr>\n",
              "      <th>2</th>\n",
              "      <td>C</td>\n",
              "      <td>C</td>\n",
              "    </tr>\n",
              "    <tr>\n",
              "      <th>3</th>\n",
              "      <td>D</td>\n",
              "      <td>D</td>\n",
              "    </tr>\n",
              "    <tr>\n",
              "      <th>4</th>\n",
              "      <td>E</td>\n",
              "      <td>E</td>\n",
              "    </tr>\n",
              "    <tr>\n",
              "      <th>5</th>\n",
              "      <td>F</td>\n",
              "      <td>F</td>\n",
              "    </tr>\n",
              "    <tr>\n",
              "      <th>6</th>\n",
              "      <td>G</td>\n",
              "      <td>G</td>\n",
              "    </tr>\n",
              "    <tr>\n",
              "      <th>7</th>\n",
              "      <td>H</td>\n",
              "      <td>H</td>\n",
              "    </tr>\n",
              "    <tr>\n",
              "      <th>8</th>\n",
              "      <td>I</td>\n",
              "      <td>I</td>\n",
              "    </tr>\n",
              "    <tr>\n",
              "      <th>9</th>\n",
              "      <td>J</td>\n",
              "      <td>J</td>\n",
              "    </tr>\n",
              "    <tr>\n",
              "      <th>10</th>\n",
              "      <td>K</td>\n",
              "      <td>K</td>\n",
              "    </tr>\n",
              "    <tr>\n",
              "      <th>11</th>\n",
              "      <td>L</td>\n",
              "      <td>L</td>\n",
              "    </tr>\n",
              "    <tr>\n",
              "      <th>12</th>\n",
              "      <td>M</td>\n",
              "      <td>N</td>\n",
              "    </tr>\n",
              "    <tr>\n",
              "      <th>13</th>\n",
              "      <td>N</td>\n",
              "      <td>N</td>\n",
              "    </tr>\n",
              "    <tr>\n",
              "      <th>14</th>\n",
              "      <td>O</td>\n",
              "      <td>O</td>\n",
              "    </tr>\n",
              "    <tr>\n",
              "      <th>15</th>\n",
              "      <td>P</td>\n",
              "      <td>P</td>\n",
              "    </tr>\n",
              "    <tr>\n",
              "      <th>16</th>\n",
              "      <td>Q</td>\n",
              "      <td>Q</td>\n",
              "    </tr>\n",
              "    <tr>\n",
              "      <th>17</th>\n",
              "      <td>R</td>\n",
              "      <td>U</td>\n",
              "    </tr>\n",
              "    <tr>\n",
              "      <th>18</th>\n",
              "      <td>S</td>\n",
              "      <td>S</td>\n",
              "    </tr>\n",
              "    <tr>\n",
              "      <th>19</th>\n",
              "      <td>T</td>\n",
              "      <td>T</td>\n",
              "    </tr>\n",
              "    <tr>\n",
              "      <th>20</th>\n",
              "      <td>U</td>\n",
              "      <td>U</td>\n",
              "    </tr>\n",
              "    <tr>\n",
              "      <th>21</th>\n",
              "      <td>V</td>\n",
              "      <td>V</td>\n",
              "    </tr>\n",
              "    <tr>\n",
              "      <th>22</th>\n",
              "      <td>W</td>\n",
              "      <td>W</td>\n",
              "    </tr>\n",
              "    <tr>\n",
              "      <th>23</th>\n",
              "      <td>X</td>\n",
              "      <td>X</td>\n",
              "    </tr>\n",
              "    <tr>\n",
              "      <th>24</th>\n",
              "      <td>Y</td>\n",
              "      <td>Y</td>\n",
              "    </tr>\n",
              "    <tr>\n",
              "      <th>25</th>\n",
              "      <td>Z</td>\n",
              "      <td>Z</td>\n",
              "    </tr>\n",
              "    <tr>\n",
              "      <th>26</th>\n",
              "      <td>delete</td>\n",
              "      <td>delete</td>\n",
              "    </tr>\n",
              "    <tr>\n",
              "      <th>27</th>\n",
              "      <td>nothing</td>\n",
              "      <td>nothing</td>\n",
              "    </tr>\n",
              "    <tr>\n",
              "      <th>28</th>\n",
              "      <td>nothing</td>\n",
              "      <td>nothing</td>\n",
              "    </tr>\n",
              "    <tr>\n",
              "      <th>29</th>\n",
              "      <td>space</td>\n",
              "      <td>space</td>\n",
              "    </tr>\n",
              "  </tbody>\n",
              "</table>\n",
              "</div>"
            ],
            "text/plain": [
              "              True Labels Predicted Labels\n",
              "Sample Number                             \n",
              "0                       A                A\n",
              "1                       B                B\n",
              "2                       C                C\n",
              "3                       D                D\n",
              "4                       E                E\n",
              "5                       F                F\n",
              "6                       G                G\n",
              "7                       H                H\n",
              "8                       I                I\n",
              "9                       J                J\n",
              "10                      K                K\n",
              "11                      L                L\n",
              "12                      M                N\n",
              "13                      N                N\n",
              "14                      O                O\n",
              "15                      P                P\n",
              "16                      Q                Q\n",
              "17                      R                U\n",
              "18                      S                S\n",
              "19                      T                T\n",
              "20                      U                U\n",
              "21                      V                V\n",
              "22                      W                W\n",
              "23                      X                X\n",
              "24                      Y                Y\n",
              "25                      Z                Z\n",
              "26                 delete           delete\n",
              "27                nothing          nothing\n",
              "28                nothing          nothing\n",
              "29                  space            space"
            ]
          },
          "metadata": {
            "tags": []
          },
          "execution_count": 9
        }
      ]
    },
    {
      "cell_type": "code",
      "metadata": {
        "id": "6XLjQWuY0ypi",
        "colab_type": "code",
        "colab": {}
      },
      "source": [
        ""
      ],
      "execution_count": 0,
      "outputs": []
    }
  ]
}